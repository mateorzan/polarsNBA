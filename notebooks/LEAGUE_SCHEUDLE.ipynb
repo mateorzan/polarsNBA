{
  "cells": [
    {
      "cell_type": "code",
      "execution_count": 8,
      "metadata": {
        "colab": {
          "base_uri": "https://localhost:8080/"
        },
        "id": "v5QrZnVNa8LX",
        "outputId": "38c193b7-51cd-42f6-c52f-02b017a1097e"
      },
      "outputs": [],
      "source": [
        "import polars as pl"
      ]
    },
    {
      "cell_type": "markdown",
      "metadata": {},
      "source": [
        "# DATASET SACADO DE KAGGLE (https://www.kaggle.com/datasets/eoinamoore/historical-nba-data-and-player-box-scores)"
      ]
    },
    {
      "cell_type": "markdown",
      "metadata": {},
      "source": [
        "## LIMPIEZA LEAGUE SCHEUDLE"
      ]
    },
    {
      "cell_type": "code",
      "execution_count": 9,
      "metadata": {
        "id": "lwsAnhcDboYz"
      },
      "outputs": [],
      "source": [
        "df_league_scheudle = pl.read_csv('/home/uvuser/polarsNBA/archive/raw/LeagueSchedule24_25.csv')"
      ]
    },
    {
      "cell_type": "code",
      "execution_count": 10,
      "metadata": {
        "colab": {
          "base_uri": "https://localhost:8080/",
          "height": 810
        },
        "id": "cghRObUBcPwG",
        "outputId": "bd7357d1-d637-4f7e-9665-af4c956888fb"
      },
      "outputs": [
        {
          "data": {
            "text/html": [
              "<div><style>\n",
              ".dataframe > thead > tr,\n",
              ".dataframe > tbody > tr {\n",
              "  text-align: right;\n",
              "  white-space: pre-wrap;\n",
              "}\n",
              "</style>\n",
              "<small>shape: (1_408, 15)</small><table border=\"1\" class=\"dataframe\"><thead><tr><th>gameId</th><th>gameDateTimeEst</th><th>gameDay</th><th>arenaCity</th><th>arenaState</th><th>arenaName</th><th>gameLabel</th><th>gameSubLabel</th><th>gameSubtype</th><th>gameSequence</th><th>seriesGameNumber</th><th>seriesText</th><th>weekNumber</th><th>hometeamId</th><th>awayteamId</th></tr><tr><td>i64</td><td>str</td><td>str</td><td>str</td><td>str</td><td>str</td><td>str</td><td>str</td><td>str</td><td>i64</td><td>str</td><td>str</td><td>i64</td><td>i64</td><td>i64</td></tr></thead><tbody><tr><td>12400001</td><td>&quot;2024-10-04 12:00:00+00:00&quot;</td><td>&quot;Fri&quot;</td><td>&quot;Abu Dhabi&quot;</td><td>null</td><td>&quot;Etihad Arena&quot;</td><td>&quot;Preseason&quot;</td><td>&quot;NBA Abu Dhabi Game&quot;</td><td>&quot;Global Games&quot;</td><td>1</td><td>null</td><td>&quot;Neutral Site&quot;</td><td>0</td><td>1610612743</td><td>1610612738</td></tr><tr><td>12400002</td><td>&quot;2024-10-04 21:00:00+00:00&quot;</td><td>&quot;Fri&quot;</td><td>&quot;Salt Lake City&quot;</td><td>&quot;UT&quot;</td><td>&quot;Delta Center&quot;</td><td>&quot;Preseason&quot;</td><td>null</td><td>null</td><td>2</td><td>null</td><td>null</td><td>0</td><td>1610612762</td><td>15020</td></tr><tr><td>12400003</td><td>&quot;2024-10-04 22:30:00+00:00&quot;</td><td>&quot;Fri&quot;</td><td>&quot;Palm Desert&quot;</td><td>&quot;CA&quot;</td><td>&quot;Acrisure Arena&quot;</td><td>&quot;Preseason&quot;</td><td>null</td><td>null</td><td>3</td><td>null</td><td>null</td><td>0</td><td>1610612747</td><td>1610612750</td></tr><tr><td>12400004</td><td>&quot;2024-10-05 19:00:00+00:00&quot;</td><td>&quot;Sat&quot;</td><td>&quot;Honolulu&quot;</td><td>&quot;HI&quot;</td><td>&quot;Stan Sheriff Center&quot;</td><td>&quot;Preseason&quot;</td><td>null</td><td>null</td><td>1</td><td>null</td><td>null</td><td>0</td><td>1610612746</td><td>1610612744</td></tr><tr><td>12400005</td><td>&quot;2024-10-06 10:00:00+00:00&quot;</td><td>&quot;Sun&quot;</td><td>&quot;Abu Dhabi&quot;</td><td>null</td><td>&quot;Etihad Arena&quot;</td><td>&quot;Preseason&quot;</td><td>&quot;NBA Abu Dhabi Game&quot;</td><td>&quot;Global Games&quot;</td><td>1</td><td>null</td><td>&quot;Neutral Site&quot;</td><td>0</td><td>1610612738</td><td>1610612743</td></tr><tr><td>&hellip;</td><td>&hellip;</td><td>&hellip;</td><td>&hellip;</td><td>&hellip;</td><td>&hellip;</td><td>&hellip;</td><td>&hellip;</td><td>&hellip;</td><td>&hellip;</td><td>&hellip;</td><td>&hellip;</td><td>&hellip;</td><td>&hellip;</td><td>&hellip;</td></tr><tr><td>52400121</td><td>&quot;2025-04-15T22:00:00Z&quot;</td><td>&quot;Tue&quot;</td><td>&quot;San Francisco&quot;</td><td>&quot;CA&quot;</td><td>&quot;Chase Center&quot;</td><td>&quot;SoFi Play-In Tournament&quot;</td><td>&quot;West&quot;</td><td>null</td><td>2</td><td>null</td><td>&quot;GSW clinch 7 seed&quot;</td><td>26</td><td>1610612744</td><td>1610612763</td></tr><tr><td>52400131</td><td>&quot;2025-04-16T22:00:00Z&quot;</td><td>&quot;Wed&quot;</td><td>&quot;Sacramento&quot;</td><td>&quot;CA&quot;</td><td>&quot;Golden 1 Center&quot;</td><td>&quot;SoFi Play-In Tournament&quot;</td><td>&quot;West&quot;</td><td>null</td><td>2</td><td>null</td><td>&quot;SAC eliminated&quot;</td><td>26</td><td>1610612758</td><td>1610612742</td></tr><tr><td>52400201</td><td>&quot;2025-04-18T19:00:00Z&quot;</td><td>&quot;Fri&quot;</td><td>&quot;Atlanta&quot;</td><td>&quot;GA&quot;</td><td>&quot;State Farm Arena&quot;</td><td>&quot;SoFi Play-In Tournament&quot;</td><td>&quot;East&quot;</td><td>null</td><td>1</td><td>null</td><td>&quot;MIA clinch 8 seed&quot;</td><td>26</td><td>1610612737</td><td>1610612748</td></tr><tr><td>52400211</td><td>&quot;2025-04-18T21:30:00Z&quot;</td><td>&quot;Fri&quot;</td><td>&quot;Memphis&quot;</td><td>&quot;TN&quot;</td><td>&quot;FedExForum&quot;</td><td>&quot;SoFi Play-In Tournament&quot;</td><td>&quot;West&quot;</td><td>null</td><td>2</td><td>null</td><td>&quot;MEM clinch 8 seed&quot;</td><td>26</td><td>1610612763</td><td>1610612742</td></tr><tr><td>62400001</td><td>&quot;2024-12-17 20:30:00+00:00&quot;</td><td>&quot;Tue&quot;</td><td>&quot;Las Vegas&quot;</td><td>&quot;NV&quot;</td><td>&quot;T-Mobile Arena&quot;</td><td>&quot;Emirates NBA Cup&quot;</td><td>&quot;Championship&quot;</td><td>&quot;in-season-knockout&quot;</td><td>1</td><td>null</td><td>&quot;Neutral Site&quot;</td><td>9</td><td>0</td><td>0</td></tr></tbody></table></div>"
            ],
            "text/plain": [
              "shape: (1_408, 15)\n",
              "┌──────────┬────────────┬─────────┬────────────┬───┬───────────┬───────────┬───────────┬───────────┐\n",
              "│ gameId   ┆ gameDateTi ┆ gameDay ┆ arenaCity  ┆ … ┆ seriesTex ┆ weekNumbe ┆ hometeamI ┆ awayteamI │\n",
              "│ ---      ┆ meEst      ┆ ---     ┆ ---        ┆   ┆ t         ┆ r         ┆ d         ┆ d         │\n",
              "│ i64      ┆ ---        ┆ str     ┆ str        ┆   ┆ ---       ┆ ---       ┆ ---       ┆ ---       │\n",
              "│          ┆ str        ┆         ┆            ┆   ┆ str       ┆ i64       ┆ i64       ┆ i64       │\n",
              "╞══════════╪════════════╪═════════╪════════════╪═══╪═══════════╪═══════════╪═══════════╪═══════════╡\n",
              "│ 12400001 ┆ 2024-10-04 ┆ Fri     ┆ Abu Dhabi  ┆ … ┆ Neutral   ┆ 0         ┆ 161061274 ┆ 161061273 │\n",
              "│          ┆ 12:00:00+0 ┆         ┆            ┆   ┆ Site      ┆           ┆ 3         ┆ 8         │\n",
              "│          ┆ 0:00       ┆         ┆            ┆   ┆           ┆           ┆           ┆           │\n",
              "│ 12400002 ┆ 2024-10-04 ┆ Fri     ┆ Salt Lake  ┆ … ┆ null      ┆ 0         ┆ 161061276 ┆ 15020     │\n",
              "│          ┆ 21:00:00+0 ┆         ┆ City       ┆   ┆           ┆           ┆ 2         ┆           │\n",
              "│          ┆ 0:00       ┆         ┆            ┆   ┆           ┆           ┆           ┆           │\n",
              "│ 12400003 ┆ 2024-10-04 ┆ Fri     ┆ Palm       ┆ … ┆ null      ┆ 0         ┆ 161061274 ┆ 161061275 │\n",
              "│          ┆ 22:30:00+0 ┆         ┆ Desert     ┆   ┆           ┆           ┆ 7         ┆ 0         │\n",
              "│          ┆ 0:00       ┆         ┆            ┆   ┆           ┆           ┆           ┆           │\n",
              "│ 12400004 ┆ 2024-10-05 ┆ Sat     ┆ Honolulu   ┆ … ┆ null      ┆ 0         ┆ 161061274 ┆ 161061274 │\n",
              "│          ┆ 19:00:00+0 ┆         ┆            ┆   ┆           ┆           ┆ 6         ┆ 4         │\n",
              "│          ┆ 0:00       ┆         ┆            ┆   ┆           ┆           ┆           ┆           │\n",
              "│ 12400005 ┆ 2024-10-06 ┆ Sun     ┆ Abu Dhabi  ┆ … ┆ Neutral   ┆ 0         ┆ 161061273 ┆ 161061274 │\n",
              "│          ┆ 10:00:00+0 ┆         ┆            ┆   ┆ Site      ┆           ┆ 8         ┆ 3         │\n",
              "│          ┆ 0:00       ┆         ┆            ┆   ┆           ┆           ┆           ┆           │\n",
              "│ …        ┆ …          ┆ …       ┆ …          ┆ … ┆ …         ┆ …         ┆ …         ┆ …         │\n",
              "│ 52400121 ┆ 2025-04-15 ┆ Tue     ┆ San        ┆ … ┆ GSW       ┆ 26        ┆ 161061274 ┆ 161061276 │\n",
              "│          ┆ T22:00:00Z ┆         ┆ Francisco  ┆   ┆ clinch 7  ┆           ┆ 4         ┆ 3         │\n",
              "│          ┆            ┆         ┆            ┆   ┆ seed      ┆           ┆           ┆           │\n",
              "│ 52400131 ┆ 2025-04-16 ┆ Wed     ┆ Sacramento ┆ … ┆ SAC elimi ┆ 26        ┆ 161061275 ┆ 161061274 │\n",
              "│          ┆ T22:00:00Z ┆         ┆            ┆   ┆ nated     ┆           ┆ 8         ┆ 2         │\n",
              "│ 52400201 ┆ 2025-04-18 ┆ Fri     ┆ Atlanta    ┆ … ┆ MIA       ┆ 26        ┆ 161061273 ┆ 161061274 │\n",
              "│          ┆ T19:00:00Z ┆         ┆            ┆   ┆ clinch 8  ┆           ┆ 7         ┆ 8         │\n",
              "│          ┆            ┆         ┆            ┆   ┆ seed      ┆           ┆           ┆           │\n",
              "│ 52400211 ┆ 2025-04-18 ┆ Fri     ┆ Memphis    ┆ … ┆ MEM       ┆ 26        ┆ 161061276 ┆ 161061274 │\n",
              "│          ┆ T21:30:00Z ┆         ┆            ┆   ┆ clinch 8  ┆           ┆ 3         ┆ 2         │\n",
              "│          ┆            ┆         ┆            ┆   ┆ seed      ┆           ┆           ┆           │\n",
              "│ 62400001 ┆ 2024-12-17 ┆ Tue     ┆ Las Vegas  ┆ … ┆ Neutral   ┆ 9         ┆ 0         ┆ 0         │\n",
              "│          ┆ 20:30:00+0 ┆         ┆            ┆   ┆ Site      ┆           ┆           ┆           │\n",
              "│          ┆ 0:00       ┆         ┆            ┆   ┆           ┆           ┆           ┆           │\n",
              "└──────────┴────────────┴─────────┴────────────┴───┴───────────┴───────────┴───────────┴───────────┘"
            ]
          },
          "execution_count": 10,
          "metadata": {},
          "output_type": "execute_result"
        }
      ],
      "source": [
        "df_league_scheudle"
      ]
    },
    {
      "cell_type": "code",
      "execution_count": 11,
      "metadata": {
        "colab": {
          "base_uri": "https://localhost:8080/"
        },
        "id": "snsKFdWSdDlQ",
        "outputId": "6929a45d-be8a-4912-fbf3-d46442aaa95a"
      },
      "outputs": [
        {
          "name": "stdout",
          "output_type": "stream",
          "text": [
            "shape: (1, 15)\n",
            "┌───────────┬───────────┬───────────┬───────────┬───┬───────────┬───────────┬───────────┬──────────┐\n",
            "│ gameId_nu ┆ gameDateT ┆ gameDay_n ┆ arenaCity ┆ … ┆ seriesTex ┆ weekNumbe ┆ hometeamI ┆ awayteam │\n",
            "│ los       ┆ imeEst_nu ┆ ulos      ┆ _nulos    ┆   ┆ t_nulos   ┆ r_nulos   ┆ d_nulos   ┆ Id_nulos │\n",
            "│ ---       ┆ los       ┆ ---       ┆ ---       ┆   ┆ ---       ┆ ---       ┆ ---       ┆ ---      │\n",
            "│ u32       ┆ ---       ┆ u32       ┆ u32       ┆   ┆ u32       ┆ u32       ┆ u32       ┆ u32      │\n",
            "│           ┆ u32       ┆           ┆           ┆   ┆           ┆           ┆           ┆          │\n",
            "╞═══════════╪═══════════╪═══════════╪═══════════╪═══╪═══════════╪═══════════╪═══════════╪══════════╡\n",
            "│ 0         ┆ 0         ┆ 0         ┆ 0         ┆ … ┆ 1305      ┆ 0         ┆ 0         ┆ 0        │\n",
            "└───────────┴───────────┴───────────┴───────────┴───┴───────────┴───────────┴───────────┴──────────┘\n"
          ]
        }
      ],
      "source": [
        "# Contar los nulos por columna\n",
        "nulos_por_columna = df_league_scheudle.select([\n",
        "    pl.col(col).is_null().sum().alias(f\"{col}_nulos\")\n",
        "    for col in df_league_scheudle.columns\n",
        "])\n",
        "\n",
        "print(nulos_por_columna)"
      ]
    },
    {
      "cell_type": "code",
      "execution_count": 12,
      "metadata": {
        "colab": {
          "base_uri": "https://localhost:8080/"
        },
        "id": "VOe29ZV-eZzp",
        "outputId": "e3638ac8-b596-454e-813a-8d2a5cb46fd0"
      },
      "outputs": [
        {
          "name": "stdout",
          "output_type": "stream",
          "text": [
            "shape: (0, 15)\n",
            "┌────────┬────────────┬─────────┬───────────┬───┬────────────┬────────────┬────────────┬───────────┐\n",
            "│ gameId ┆ gameDateTi ┆ gameDay ┆ arenaCity ┆ … ┆ seriesText ┆ weekNumber ┆ hometeamId ┆ awayteamI │\n",
            "│ ---    ┆ meEst      ┆ ---     ┆ ---       ┆   ┆ ---        ┆ ---        ┆ ---        ┆ d         │\n",
            "│ i64    ┆ ---        ┆ str     ┆ str       ┆   ┆ str        ┆ i64        ┆ i64        ┆ ---       │\n",
            "│        ┆ str        ┆         ┆           ┆   ┆            ┆            ┆            ┆ i64       │\n",
            "╞════════╪════════════╪═════════╪═══════════╪═══╪════════════╪════════════╪════════════╪═══════════╡\n",
            "└────────┴────────────┴─────────┴───────────┴───┴────────────┴────────────┴────────────┴───────────┘\n"
          ]
        }
      ],
      "source": [
        "duplicados = df_league_scheudle.filter(df_league_scheudle.is_duplicated())\n",
        "print(duplicados)"
      ]
    },
    {
      "cell_type": "code",
      "execution_count": 13,
      "metadata": {
        "colab": {
          "base_uri": "https://localhost:8080/"
        },
        "id": "lLGg3b1efPUY",
        "outputId": "2307566d-1c27-4556-d143-09f0fb3f4eff"
      },
      "outputs": [
        {
          "name": "stdout",
          "output_type": "stream",
          "text": [
            "Número de filas duplicadas: 0\n"
          ]
        }
      ],
      "source": [
        "num_duplicados = df_league_scheudle.is_duplicated().sum()\n",
        "print(f\"Número de filas duplicadas: {num_duplicados}\")"
      ]
    },
    {
      "cell_type": "code",
      "execution_count": 14,
      "metadata": {
        "colab": {
          "base_uri": "https://localhost:8080/",
          "height": 470
        },
        "id": "QqQmPAFjfmXu",
        "outputId": "2c81435e-44d8-4a36-9e32-46032d79e746"
      },
      "outputs": [
        {
          "data": {
            "text/html": [
              "<div><style>\n",
              ".dataframe > thead > tr,\n",
              ".dataframe > tbody > tr {\n",
              "  text-align: right;\n",
              "  white-space: pre-wrap;\n",
              "}\n",
              "</style>\n",
              "<small>shape: (9, 16)</small><table border=\"1\" class=\"dataframe\"><thead><tr><th>statistic</th><th>gameId</th><th>gameDateTimeEst</th><th>gameDay</th><th>arenaCity</th><th>arenaState</th><th>arenaName</th><th>gameLabel</th><th>gameSubLabel</th><th>gameSubtype</th><th>gameSequence</th><th>seriesGameNumber</th><th>seriesText</th><th>weekNumber</th><th>hometeamId</th><th>awayteamId</th></tr><tr><td>str</td><td>f64</td><td>str</td><td>str</td><td>str</td><td>str</td><td>str</td><td>str</td><td>str</td><td>str</td><td>f64</td><td>str</td><td>str</td><td>f64</td><td>f64</td><td>f64</td></tr></thead><tbody><tr><td>&quot;count&quot;</td><td>1408.0</td><td>&quot;1408&quot;</td><td>&quot;1408&quot;</td><td>&quot;1408&quot;</td><td>&quot;1400&quot;</td><td>&quot;1408&quot;</td><td>&quot;247&quot;</td><td>&quot;166&quot;</td><td>&quot;77&quot;</td><td>1408.0</td><td>&quot;84&quot;</td><td>&quot;103&quot;</td><td>1408.0</td><td>1408.0</td><td>1408.0</td></tr><tr><td>&quot;null_count&quot;</td><td>0.0</td><td>&quot;0&quot;</td><td>&quot;0&quot;</td><td>&quot;0&quot;</td><td>&quot;8&quot;</td><td>&quot;0&quot;</td><td>&quot;1161&quot;</td><td>&quot;1242&quot;</td><td>&quot;1331&quot;</td><td>0.0</td><td>&quot;1324&quot;</td><td>&quot;1305&quot;</td><td>0.0</td><td>0.0</td><td>0.0</td></tr><tr><td>&quot;mean&quot;</td><td>2.3147e7</td><td>null</td><td>null</td><td>null</td><td>null</td><td>null</td><td>null</td><td>null</td><td>null</td><td>4.644886</td><td>null</td><td>null</td><td>13.401989</td><td>1.6083e9</td><td>1.6015e9</td></tr><tr><td>&quot;std&quot;</td><td>5.8705e6</td><td>null</td><td>null</td><td>null</td><td>null</td><td>null</td><td>null</td><td>null</td><td>null</td><td>3.056265</td><td>null</td><td>null</td><td>8.568155</td><td>6.0681e7</td><td>1.2110e8</td></tr><tr><td>&quot;min&quot;</td><td>1.2400001e7</td><td>&quot;2024-10-04 12:00:00+00:00&quot;</td><td>&quot;Fri&quot;</td><td>&quot;Abu Dhabi&quot;</td><td>&quot;AZ&quot;</td><td>&quot;Accor Arena&quot;</td><td>&quot;All-Star Game&quot;</td><td>&quot;Championship&quot;</td><td>&quot;Global Games&quot;</td><td>1.0</td><td>&quot;1&quot;</td><td>&quot;BOS leads 1-0&quot;</td><td>0.0</td><td>0.0</td><td>0.0</td></tr><tr><td>&quot;25%&quot;</td><td>2.2400267e7</td><td>null</td><td>null</td><td>null</td><td>null</td><td>null</td><td>null</td><td>null</td><td>null</td><td>2.0</td><td>null</td><td>null</td><td>6.0</td><td>1.6106e9</td><td>1.6106e9</td></tr><tr><td>&quot;50%&quot;</td><td>2.2400619e7</td><td>null</td><td>null</td><td>null</td><td>null</td><td>null</td><td>null</td><td>null</td><td>null</td><td>4.0</td><td>null</td><td>null</td><td>13.0</td><td>1.6106e9</td><td>1.6106e9</td></tr><tr><td>&quot;75%&quot;</td><td>2.240097e7</td><td>null</td><td>null</td><td>null</td><td>null</td><td>null</td><td>null</td><td>null</td><td>null</td><td>7.0</td><td>null</td><td>null</td><td>21.0</td><td>1.6106e9</td><td>1.6106e9</td></tr><tr><td>&quot;max&quot;</td><td>6.2400001e7</td><td>&quot;2025-10-17T22:30:00Z&quot;</td><td>&quot;Wed&quot;</td><td>&quot;Washington&quot;</td><td>&quot;WI&quot;</td><td>&quot;Wells Fargo Center&quot;</td><td>&quot;West First Round&quot;</td><td>&quot;West Semifinal&quot;</td><td>&quot;in-season-knockout&quot;</td><td>15.0</td><td>&quot;7&quot;</td><td>&quot;Series tied 3-3&quot;</td><td>35.0</td><td>1.6106e9</td><td>1.6106e9</td></tr></tbody></table></div>"
            ],
            "text/plain": [
              "shape: (9, 16)\n",
              "┌────────────┬───────────┬───────────┬─────────┬───┬───────────┬───────────┬───────────┬───────────┐\n",
              "│ statistic  ┆ gameId    ┆ gameDateT ┆ gameDay ┆ … ┆ seriesTex ┆ weekNumbe ┆ hometeamI ┆ awayteamI │\n",
              "│ ---        ┆ ---       ┆ imeEst    ┆ ---     ┆   ┆ t         ┆ r         ┆ d         ┆ d         │\n",
              "│ str        ┆ f64       ┆ ---       ┆ str     ┆   ┆ ---       ┆ ---       ┆ ---       ┆ ---       │\n",
              "│            ┆           ┆ str       ┆         ┆   ┆ str       ┆ f64       ┆ f64       ┆ f64       │\n",
              "╞════════════╪═══════════╪═══════════╪═════════╪═══╪═══════════╪═══════════╪═══════════╪═══════════╡\n",
              "│ count      ┆ 1408.0    ┆ 1408      ┆ 1408    ┆ … ┆ 103       ┆ 1408.0    ┆ 1408.0    ┆ 1408.0    │\n",
              "│ null_count ┆ 0.0       ┆ 0         ┆ 0       ┆ … ┆ 1305      ┆ 0.0       ┆ 0.0       ┆ 0.0       │\n",
              "│ mean       ┆ 2.3147e7  ┆ null      ┆ null    ┆ … ┆ null      ┆ 13.401989 ┆ 1.6083e9  ┆ 1.6015e9  │\n",
              "│ std        ┆ 5.8705e6  ┆ null      ┆ null    ┆ … ┆ null      ┆ 8.568155  ┆ 6.0681e7  ┆ 1.2110e8  │\n",
              "│ min        ┆ 1.2400001 ┆ 2024-10-0 ┆ Fri     ┆ … ┆ BOS leads ┆ 0.0       ┆ 0.0       ┆ 0.0       │\n",
              "│            ┆ e7        ┆ 4 12:00:0 ┆         ┆   ┆ 1-0       ┆           ┆           ┆           │\n",
              "│            ┆           ┆ 0+00:00   ┆         ┆   ┆           ┆           ┆           ┆           │\n",
              "│ 25%        ┆ 2.2400267 ┆ null      ┆ null    ┆ … ┆ null      ┆ 6.0       ┆ 1.6106e9  ┆ 1.6106e9  │\n",
              "│            ┆ e7        ┆           ┆         ┆   ┆           ┆           ┆           ┆           │\n",
              "│ 50%        ┆ 2.2400619 ┆ null      ┆ null    ┆ … ┆ null      ┆ 13.0      ┆ 1.6106e9  ┆ 1.6106e9  │\n",
              "│            ┆ e7        ┆           ┆         ┆   ┆           ┆           ┆           ┆           │\n",
              "│ 75%        ┆ 2.240097e ┆ null      ┆ null    ┆ … ┆ null      ┆ 21.0      ┆ 1.6106e9  ┆ 1.6106e9  │\n",
              "│            ┆ 7         ┆           ┆         ┆   ┆           ┆           ┆           ┆           │\n",
              "│ max        ┆ 6.2400001 ┆ 2025-10-1 ┆ Wed     ┆ … ┆ Series    ┆ 35.0      ┆ 1.6106e9  ┆ 1.6106e9  │\n",
              "│            ┆ e7        ┆ 7T22:30:0 ┆         ┆   ┆ tied 3-3  ┆           ┆           ┆           │\n",
              "│            ┆           ┆ 0Z        ┆         ┆   ┆           ┆           ┆           ┆           │\n",
              "└────────────┴───────────┴───────────┴─────────┴───┴───────────┴───────────┴───────────┴───────────┘"
            ]
          },
          "execution_count": 14,
          "metadata": {},
          "output_type": "execute_result"
        }
      ],
      "source": [
        "df_league_scheudle.describe()"
      ]
    }
  ],
  "metadata": {
    "colab": {
      "provenance": []
    },
    "kernelspec": {
      "display_name": "polarsnba",
      "language": "python",
      "name": "python3"
    },
    "language_info": {
      "codemirror_mode": {
        "name": "ipython",
        "version": 3
      },
      "file_extension": ".py",
      "mimetype": "text/x-python",
      "name": "python",
      "nbconvert_exporter": "python",
      "pygments_lexer": "ipython3",
      "version": "3.12.3"
    }
  },
  "nbformat": 4,
  "nbformat_minor": 0
}
