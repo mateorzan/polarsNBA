{
  "cells": [
    {
      "cell_type": "code",
      "execution_count": 1,
      "metadata": {
        "colab": {
          "base_uri": "https://localhost:8080/"
        },
        "id": "v5QrZnVNa8LX",
        "outputId": "38c193b7-51cd-42f6-c52f-02b017a1097e"
      },
      "outputs": [],
      "source": [
        "import polars as pl"
      ]
    },
    {
      "cell_type": "markdown",
      "metadata": {},
      "source": [
        "# DATASET SACADO DE KAGGLE (https://www.kaggle.com/datasets/eoinamoore/historical-nba-data-and-player-box-scores)"
      ]
    },
    {
      "cell_type": "markdown",
      "metadata": {},
      "source": [
        "## LIMPIEZA PLAYERS"
      ]
    },
    {
      "cell_type": "code",
      "execution_count": 2,
      "metadata": {
        "id": "lwsAnhcDboYz"
      },
      "outputs": [],
      "source": [
        "df_players = pl.read_csv('/home/uvuser/polarsNBA/archive/raw/Players.csv')"
      ]
    },
    {
      "cell_type": "code",
      "execution_count": 3,
      "metadata": {
        "colab": {
          "base_uri": "https://localhost:8080/",
          "height": 810
        },
        "id": "cghRObUBcPwG",
        "outputId": "bd7357d1-d637-4f7e-9665-af4c956888fb"
      },
      "outputs": [
        {
          "data": {
            "text/html": [
              "<div><style>\n",
              ".dataframe > thead > tr,\n",
              ".dataframe > tbody > tr {\n",
              "  text-align: right;\n",
              "  white-space: pre-wrap;\n",
              "}\n",
              "</style>\n",
              "<small>shape: (6_533, 14)</small><table border=\"1\" class=\"dataframe\"><thead><tr><th>personId</th><th>firstName</th><th>lastName</th><th>birthdate</th><th>lastAttended</th><th>country</th><th>height</th><th>bodyWeight</th><th>guard</th><th>forward</th><th>center</th><th>draftYear</th><th>draftRound</th><th>draftNumber</th></tr><tr><td>i64</td><td>str</td><td>str</td><td>str</td><td>str</td><td>str</td><td>f64</td><td>f64</td><td>bool</td><td>bool</td><td>bool</td><td>f64</td><td>f64</td><td>f64</td></tr></thead><tbody><tr><td>2</td><td>&quot;Byron&quot;</td><td>&quot;Scott&quot;</td><td>&quot;1961-03-28&quot;</td><td>&quot;Arizona State&quot;</td><td>&quot;USA&quot;</td><td>76.0</td><td>205.0</td><td>true</td><td>false</td><td>false</td><td>1983.0</td><td>1.0</td><td>4.0</td></tr><tr><td>3</td><td>&quot;Grant&quot;</td><td>&quot;Long&quot;</td><td>&quot;1966-03-12&quot;</td><td>&quot;Eastern Michigan&quot;</td><td>&quot;USA&quot;</td><td>81.0</td><td>3.0</td><td>false</td><td>false</td><td>false</td><td>1988.0</td><td>2.0</td><td>33.0</td></tr><tr><td>7</td><td>&quot;Dan&quot;</td><td>&quot;Schayes&quot;</td><td>&quot;1959-05-10&quot;</td><td>&quot;Syracuse&quot;</td><td>&quot;USA&quot;</td><td>83.0</td><td>260.0</td><td>false</td><td>false</td><td>true</td><td>1981.0</td><td>1.0</td><td>13.0</td></tr><tr><td>9</td><td>&quot;Sedale&quot;</td><td>&quot;Threatt&quot;</td><td>&quot;1961-09-10&quot;</td><td>&quot;West Virginia Tech&quot;</td><td>&quot;USA&quot;</td><td>74.0</td><td>185.0</td><td>true</td><td>false</td><td>false</td><td>1983.0</td><td>6.0</td><td>139.0</td></tr><tr><td>12</td><td>&quot;Chris&quot;</td><td>&quot;King&quot;</td><td>&quot;1969-07-24&quot;</td><td>&quot;Wake Forest&quot;</td><td>&quot;USA&quot;</td><td>80.0</td><td>215.0</td><td>false</td><td>true</td><td>false</td><td>1992.0</td><td>2.0</td><td>45.0</td></tr><tr><td>&hellip;</td><td>&hellip;</td><td>&hellip;</td><td>&hellip;</td><td>&hellip;</td><td>&hellip;</td><td>&hellip;</td><td>&hellip;</td><td>&hellip;</td><td>&hellip;</td><td>&hellip;</td><td>&hellip;</td><td>&hellip;</td><td>&hellip;</td></tr><tr><td>1966938196</td><td>&quot;Yuheng&quot;</td><td>&quot;Tian&quot;</td><td>null</td><td>null</td><td>null</td><td>null</td><td>null</td><td>null</td><td>null</td><td>null</td><td>null</td><td>null</td><td>null</td></tr><tr><td>1966938197</td><td>&quot;Tianyo&quot;</td><td>&quot;Yao&quot;</td><td>null</td><td>null</td><td>null</td><td>null</td><td>null</td><td>null</td><td>null</td><td>null</td><td>null</td><td>null</td><td>null</td></tr><tr><td>1966938204</td><td>&quot;Koperberg&quot;</td><td>&quot;Daniel&quot;</td><td>null</td><td>null</td><td>null</td><td>null</td><td>null</td><td>null</td><td>null</td><td>null</td><td>null</td><td>null</td><td>null</td></tr><tr><td>1966938208</td><td>&quot;Quincy&quot;</td><td>&quot;Miller&quot;</td><td>null</td><td>null</td><td>null</td><td>null</td><td>null</td><td>null</td><td>null</td><td>null</td><td>null</td><td>null</td><td>null</td></tr><tr><td>1966938209</td><td>&quot;Jo&quot;</td><td>&quot;Lual-Acuil Jr&quot;</td><td>null</td><td>null</td><td>null</td><td>null</td><td>null</td><td>false</td><td>true</td><td>false</td><td>null</td><td>null</td><td>null</td></tr></tbody></table></div>"
            ],
            "text/plain": [
              "shape: (6_533, 14)\n",
              "┌────────────┬───────────┬────────────┬───────────┬───┬────────┬───────────┬───────────┬───────────┐\n",
              "│ personId   ┆ firstName ┆ lastName   ┆ birthdate ┆ … ┆ center ┆ draftYear ┆ draftRoun ┆ draftNumb │\n",
              "│ ---        ┆ ---       ┆ ---        ┆ ---       ┆   ┆ ---    ┆ ---       ┆ d         ┆ er        │\n",
              "│ i64        ┆ str       ┆ str        ┆ str       ┆   ┆ bool   ┆ f64       ┆ ---       ┆ ---       │\n",
              "│            ┆           ┆            ┆           ┆   ┆        ┆           ┆ f64       ┆ f64       │\n",
              "╞════════════╪═══════════╪════════════╪═══════════╪═══╪════════╪═══════════╪═══════════╪═══════════╡\n",
              "│ 2          ┆ Byron     ┆ Scott      ┆ 1961-03-2 ┆ … ┆ false  ┆ 1983.0    ┆ 1.0       ┆ 4.0       │\n",
              "│            ┆           ┆            ┆ 8         ┆   ┆        ┆           ┆           ┆           │\n",
              "│ 3          ┆ Grant     ┆ Long       ┆ 1966-03-1 ┆ … ┆ false  ┆ 1988.0    ┆ 2.0       ┆ 33.0      │\n",
              "│            ┆           ┆            ┆ 2         ┆   ┆        ┆           ┆           ┆           │\n",
              "│ 7          ┆ Dan       ┆ Schayes    ┆ 1959-05-1 ┆ … ┆ true   ┆ 1981.0    ┆ 1.0       ┆ 13.0      │\n",
              "│            ┆           ┆            ┆ 0         ┆   ┆        ┆           ┆           ┆           │\n",
              "│ 9          ┆ Sedale    ┆ Threatt    ┆ 1961-09-1 ┆ … ┆ false  ┆ 1983.0    ┆ 6.0       ┆ 139.0     │\n",
              "│            ┆           ┆            ┆ 0         ┆   ┆        ┆           ┆           ┆           │\n",
              "│ 12         ┆ Chris     ┆ King       ┆ 1969-07-2 ┆ … ┆ false  ┆ 1992.0    ┆ 2.0       ┆ 45.0      │\n",
              "│            ┆           ┆            ┆ 4         ┆   ┆        ┆           ┆           ┆           │\n",
              "│ …          ┆ …         ┆ …          ┆ …         ┆ … ┆ …      ┆ …         ┆ …         ┆ …         │\n",
              "│ 1966938196 ┆ Yuheng    ┆ Tian       ┆ null      ┆ … ┆ null   ┆ null      ┆ null      ┆ null      │\n",
              "│ 1966938197 ┆ Tianyo    ┆ Yao        ┆ null      ┆ … ┆ null   ┆ null      ┆ null      ┆ null      │\n",
              "│ 1966938204 ┆ Koperberg ┆ Daniel     ┆ null      ┆ … ┆ null   ┆ null      ┆ null      ┆ null      │\n",
              "│ 1966938208 ┆ Quincy    ┆ Miller     ┆ null      ┆ … ┆ null   ┆ null      ┆ null      ┆ null      │\n",
              "│ 1966938209 ┆ Jo        ┆ Lual-Acuil ┆ null      ┆ … ┆ false  ┆ null      ┆ null      ┆ null      │\n",
              "│            ┆           ┆ Jr         ┆           ┆   ┆        ┆           ┆           ┆           │\n",
              "└────────────┴───────────┴────────────┴───────────┴───┴────────┴───────────┴───────────┴───────────┘"
            ]
          },
          "execution_count": 3,
          "metadata": {},
          "output_type": "execute_result"
        }
      ],
      "source": [
        "df_players"
      ]
    },
    {
      "cell_type": "code",
      "execution_count": 4,
      "metadata": {
        "colab": {
          "base_uri": "https://localhost:8080/"
        },
        "id": "snsKFdWSdDlQ",
        "outputId": "6929a45d-be8a-4912-fbf3-d46442aaa95a"
      },
      "outputs": [
        {
          "name": "stdout",
          "output_type": "stream",
          "text": [
            "shape: (1, 14)\n",
            "┌───────────┬───────────┬───────────┬───────────┬───┬───────────┬───────────┬───────────┬──────────┐\n",
            "│ personId_ ┆ firstName ┆ lastName_ ┆ birthdate ┆ … ┆ center_nu ┆ draftYear ┆ draftRoun ┆ draftNum │\n",
            "│ nulos     ┆ _nulos    ┆ nulos     ┆ _nulos    ┆   ┆ los       ┆ _nulos    ┆ d_nulos   ┆ ber_nulo │\n",
            "│ ---       ┆ ---       ┆ ---       ┆ ---       ┆   ┆ ---       ┆ ---       ┆ ---       ┆ s        │\n",
            "│ u32       ┆ u32       ┆ u32       ┆ u32       ┆   ┆ u32       ┆ u32       ┆ u32       ┆ ---      │\n",
            "│           ┆           ┆           ┆           ┆   ┆           ┆           ┆           ┆ u32      │\n",
            "╞═══════════╪═══════════╪═══════════╪═══════════╪═══╪═══════════╪═══════════╪═══════════╪══════════╡\n",
            "│ 0         ┆ 1         ┆ 2         ┆ 1856      ┆ … ┆ 1430      ┆ 1856      ┆ 2017      ┆ 2075     │\n",
            "└───────────┴───────────┴───────────┴───────────┴───┴───────────┴───────────┴───────────┴──────────┘\n"
          ]
        }
      ],
      "source": [
        "# Contar los nulos por columna\n",
        "nulos_por_columna = df_players.select([\n",
        "    pl.col(col).is_null().sum().alias(f\"{col}_nulos\")\n",
        "    for col in df_players.columns\n",
        "])\n",
        "\n",
        "print(nulos_por_columna)"
      ]
    },
    {
      "cell_type": "code",
      "execution_count": 5,
      "metadata": {
        "colab": {
          "base_uri": "https://localhost:8080/"
        },
        "id": "VOe29ZV-eZzp",
        "outputId": "e3638ac8-b596-454e-813a-8d2a5cb46fd0"
      },
      "outputs": [
        {
          "name": "stdout",
          "output_type": "stream",
          "text": [
            "shape: (0, 14)\n",
            "┌──────────┬───────────┬──────────┬───────────┬───┬────────┬───────────┬────────────┬─────────────┐\n",
            "│ personId ┆ firstName ┆ lastName ┆ birthdate ┆ … ┆ center ┆ draftYear ┆ draftRound ┆ draftNumber │\n",
            "│ ---      ┆ ---       ┆ ---      ┆ ---       ┆   ┆ ---    ┆ ---       ┆ ---        ┆ ---         │\n",
            "│ i64      ┆ str       ┆ str      ┆ str       ┆   ┆ bool   ┆ f64       ┆ f64        ┆ f64         │\n",
            "╞══════════╪═══════════╪══════════╪═══════════╪═══╪════════╪═══════════╪════════════╪═════════════╡\n",
            "└──────────┴───────────┴──────────┴───────────┴───┴────────┴───────────┴────────────┴─────────────┘\n"
          ]
        }
      ],
      "source": [
        "duplicados = df_players.filter(df_players.is_duplicated())\n",
        "print(duplicados)"
      ]
    },
    {
      "cell_type": "code",
      "execution_count": 6,
      "metadata": {
        "colab": {
          "base_uri": "https://localhost:8080/"
        },
        "id": "lLGg3b1efPUY",
        "outputId": "2307566d-1c27-4556-d143-09f0fb3f4eff"
      },
      "outputs": [
        {
          "name": "stdout",
          "output_type": "stream",
          "text": [
            "Número de filas duplicadas: 0\n"
          ]
        }
      ],
      "source": [
        "num_duplicados = df_players.is_duplicated().sum()\n",
        "print(f\"Número de filas duplicadas: {num_duplicados}\")"
      ]
    },
    {
      "cell_type": "code",
      "execution_count": 7,
      "metadata": {
        "colab": {
          "base_uri": "https://localhost:8080/",
          "height": 470
        },
        "id": "QqQmPAFjfmXu",
        "outputId": "2c81435e-44d8-4a36-9e32-46032d79e746"
      },
      "outputs": [
        {
          "data": {
            "text/html": [
              "<div><style>\n",
              ".dataframe > thead > tr,\n",
              ".dataframe > tbody > tr {\n",
              "  text-align: right;\n",
              "  white-space: pre-wrap;\n",
              "}\n",
              "</style>\n",
              "<small>shape: (9, 15)</small><table border=\"1\" class=\"dataframe\"><thead><tr><th>statistic</th><th>personId</th><th>firstName</th><th>lastName</th><th>birthdate</th><th>lastAttended</th><th>country</th><th>height</th><th>bodyWeight</th><th>guard</th><th>forward</th><th>center</th><th>draftYear</th><th>draftRound</th><th>draftNumber</th></tr><tr><td>str</td><td>f64</td><td>str</td><td>str</td><td>str</td><td>str</td><td>str</td><td>f64</td><td>f64</td><td>f64</td><td>f64</td><td>f64</td><td>f64</td><td>f64</td><td>f64</td></tr></thead><tbody><tr><td>&quot;count&quot;</td><td>6533.0</td><td>&quot;6532&quot;</td><td>&quot;6531&quot;</td><td>&quot;4677&quot;</td><td>&quot;4654&quot;</td><td>&quot;4677&quot;</td><td>4454.0</td><td>4580.0</td><td>5103.0</td><td>5103.0</td><td>5103.0</td><td>4677.0</td><td>4516.0</td><td>4458.0</td></tr><tr><td>&quot;null_count&quot;</td><td>0.0</td><td>&quot;1&quot;</td><td>&quot;2&quot;</td><td>&quot;1856&quot;</td><td>&quot;1879&quot;</td><td>&quot;1856&quot;</td><td>2079.0</td><td>1953.0</td><td>1430.0</td><td>1430.0</td><td>1430.0</td><td>1856.0</td><td>2017.0</td><td>2075.0</td></tr><tr><td>&quot;mean&quot;</td><td>4.3522e7</td><td>null</td><td>null</td><td>null</td><td>null</td><td>null</td><td>78.031881</td><td>102650.384716</td><td>0.388595</td><td>0.415638</td><td>0.16794</td><td>1397.4257</td><td>-0.542073</td><td>20.775236</td></tr><tr><td>&quot;std&quot;</td><td>2.7516e8</td><td>null</td><td>null</td><td>null</td><td>null</td><td>null</td><td>3.629342</td><td>376037.813095</td><td>null</td><td>null</td><td>null</td><td>910.019928</td><td>6.71421</td><td>31.320861</td></tr><tr><td>&quot;min&quot;</td><td>2.0</td><td>&quot;A.C.&quot;</td><td>&quot;Abalde&quot;</td><td>&quot;1900-01-01&quot;</td><td>&quot;--&quot;</td><td>&quot;Anla&quot;</td><td>65.0</td><td>3.0</td><td>0.0</td><td>0.0</td><td>0.0</td><td>-22.0</td><td>-22.0</td><td>-22.0</td></tr><tr><td>&quot;25%&quot;</td><td>56046.0</td><td>null</td><td>null</td><td>null</td><td>null</td><td>null</td><td>75.0</td><td>195.0</td><td>null</td><td>null</td><td>null</td><td>-1.0</td><td>-1.0</td><td>-1.0</td></tr><tr><td>&quot;50%&quot;</td><td>77839.0</td><td>null</td><td>null</td><td>null</td><td>null</td><td>null</td><td>78.0</td><td>216.0</td><td>null</td><td>null</td><td>null</td><td>1975.0</td><td>1.0</td><td>14.0</td></tr><tr><td>&quot;75%&quot;</td><td>203965.0</td><td>null</td><td>null</td><td>null</td><td>null</td><td>null</td><td>81.0</td><td>250.0</td><td>null</td><td>null</td><td>null</td><td>1996.0</td><td>2.0</td><td>36.0</td></tr><tr><td>&quot;max&quot;</td><td>1.9669e9</td><td>&quot;ga&quot;</td><td>&quot;de la Fuente&quot;</td><td>&quot;2005-12-30&quot;</td><td>&quot;nzaga&quot;</td><td>&quot;Venezuela&quot;</td><td>91.0</td><td>1.64253e6</td><td>1.0</td><td>1.0</td><td>1.0</td><td>2024.0</td><td>20.0</td><td>221.0</td></tr></tbody></table></div>"
            ],
            "text/plain": [
              "shape: (9, 15)\n",
              "┌────────────┬──────────┬───────────┬────────────┬───┬─────────┬───────────┬───────────┬───────────┐\n",
              "│ statistic  ┆ personId ┆ firstName ┆ lastName   ┆ … ┆ center  ┆ draftYear ┆ draftRoun ┆ draftNumb │\n",
              "│ ---        ┆ ---      ┆ ---       ┆ ---        ┆   ┆ ---     ┆ ---       ┆ d         ┆ er        │\n",
              "│ str        ┆ f64      ┆ str       ┆ str        ┆   ┆ f64     ┆ f64       ┆ ---       ┆ ---       │\n",
              "│            ┆          ┆           ┆            ┆   ┆         ┆           ┆ f64       ┆ f64       │\n",
              "╞════════════╪══════════╪═══════════╪════════════╪═══╪═════════╪═══════════╪═══════════╪═══════════╡\n",
              "│ count      ┆ 6533.0   ┆ 6532      ┆ 6531       ┆ … ┆ 5103.0  ┆ 4677.0    ┆ 4516.0    ┆ 4458.0    │\n",
              "│ null_count ┆ 0.0      ┆ 1         ┆ 2          ┆ … ┆ 1430.0  ┆ 1856.0    ┆ 2017.0    ┆ 2075.0    │\n",
              "│ mean       ┆ 4.3522e7 ┆ null      ┆ null       ┆ … ┆ 0.16794 ┆ 1397.4257 ┆ -0.542073 ┆ 20.775236 │\n",
              "│ std        ┆ 2.7516e8 ┆ null      ┆ null       ┆ … ┆ null    ┆ 910.01992 ┆ 6.71421   ┆ 31.320861 │\n",
              "│            ┆          ┆           ┆            ┆   ┆         ┆ 8         ┆           ┆           │\n",
              "│ min        ┆ 2.0      ┆ A.C.      ┆ Abalde     ┆ … ┆ 0.0     ┆ -22.0     ┆ -22.0     ┆ -22.0     │\n",
              "│ 25%        ┆ 56046.0  ┆ null      ┆ null       ┆ … ┆ null    ┆ -1.0      ┆ -1.0      ┆ -1.0      │\n",
              "│ 50%        ┆ 77839.0  ┆ null      ┆ null       ┆ … ┆ null    ┆ 1975.0    ┆ 1.0       ┆ 14.0      │\n",
              "│ 75%        ┆ 203965.0 ┆ null      ┆ null       ┆ … ┆ null    ┆ 1996.0    ┆ 2.0       ┆ 36.0      │\n",
              "│ max        ┆ 1.9669e9 ┆ ga        ┆ de la      ┆ … ┆ 1.0     ┆ 2024.0    ┆ 20.0      ┆ 221.0     │\n",
              "│            ┆          ┆           ┆ Fuente     ┆   ┆         ┆           ┆           ┆           │\n",
              "└────────────┴──────────┴───────────┴────────────┴───┴─────────┴───────────┴───────────┴───────────┘"
            ]
          },
          "execution_count": 7,
          "metadata": {},
          "output_type": "execute_result"
        }
      ],
      "source": [
        "df_players.describe()"
      ]
    }
  ],
  "metadata": {
    "colab": {
      "provenance": []
    },
    "kernelspec": {
      "display_name": "polarsnba",
      "language": "python",
      "name": "python3"
    },
    "language_info": {
      "codemirror_mode": {
        "name": "ipython",
        "version": 3
      },
      "file_extension": ".py",
      "mimetype": "text/x-python",
      "name": "python",
      "nbconvert_exporter": "python",
      "pygments_lexer": "ipython3",
      "version": "3.12.3"
    }
  },
  "nbformat": 4,
  "nbformat_minor": 0
}
