{
  "cells": [
    {
      "cell_type": "code",
      "execution_count": 4,
      "metadata": {
        "colab": {
          "base_uri": "https://localhost:8080/"
        },
        "id": "v5QrZnVNa8LX",
        "outputId": "38c193b7-51cd-42f6-c52f-02b017a1097e"
      },
      "outputs": [],
      "source": [
        "import polars as pl"
      ]
    },
    {
      "cell_type": "code",
      "execution_count": 5,
      "metadata": {
        "id": "lwsAnhcDboYz"
      },
      "outputs": [],
      "source": [
        "df = pl.read_csv('/home/uvuser/polarsNBA/archive/raw/Games.csv')\n"
      ]
    },
    {
      "cell_type": "code",
      "execution_count": 6,
      "metadata": {
        "colab": {
          "base_uri": "https://localhost:8080/",
          "height": 810
        },
        "id": "cghRObUBcPwG",
        "outputId": "bd7357d1-d637-4f7e-9665-af4c956888fb"
      },
      "outputs": [
        {
          "data": {
            "text/html": [
              "<div><style>\n",
              ".dataframe > thead > tr,\n",
              ".dataframe > tbody > tr {\n",
              "  text-align: right;\n",
              "  white-space: pre-wrap;\n",
              "}\n",
              "</style>\n",
              "<small>shape: (71_879, 17)</small><table border=\"1\" class=\"dataframe\"><thead><tr><th>gameId</th><th>gameDate</th><th>hometeamCity</th><th>hometeamName</th><th>hometeamId</th><th>awayteamCity</th><th>awayteamName</th><th>awayteamId</th><th>homeScore</th><th>awayScore</th><th>winner</th><th>gameType</th><th>attendance</th><th>arenaId</th><th>gameLabel</th><th>gameSubLabel</th><th>seriesGameNumber</th></tr><tr><td>i64</td><td>str</td><td>str</td><td>str</td><td>i64</td><td>str</td><td>str</td><td>i64</td><td>i64</td><td>i64</td><td>i64</td><td>str</td><td>f64</td><td>i64</td><td>str</td><td>str</td><td>f64</td></tr></thead><tbody><tr><td>42400407</td><td>&quot;2025-06-22 20:00:00&quot;</td><td>&quot;Oklahoma City&quot;</td><td>&quot;Thunder&quot;</td><td>1610612760</td><td>&quot;Indiana&quot;</td><td>&quot;Pacers&quot;</td><td>1610612754</td><td>103</td><td>91</td><td>1610612760</td><td>&quot;Playoffs&quot;</td><td>18203.0</td><td>1000052</td><td>&quot;NBA Finals&quot;</td><td>&quot;Game 7&quot;</td><td>7.0</td></tr><tr><td>42400406</td><td>&quot;2025-06-19 20:30:00&quot;</td><td>&quot;Indiana&quot;</td><td>&quot;Pacers&quot;</td><td>1610612754</td><td>&quot;Oklahoma City&quot;</td><td>&quot;Thunder&quot;</td><td>1610612760</td><td>108</td><td>91</td><td>1610612754</td><td>&quot;Playoffs&quot;</td><td>17274.0</td><td>1000063</td><td>&quot;NBA Finals&quot;</td><td>&quot;Game 6&quot;</td><td>6.0</td></tr><tr><td>42400405</td><td>&quot;2025-06-16 20:30:00&quot;</td><td>&quot;Oklahoma City&quot;</td><td>&quot;Thunder&quot;</td><td>1610612760</td><td>&quot;Indiana&quot;</td><td>&quot;Pacers&quot;</td><td>1610612754</td><td>120</td><td>109</td><td>1610612760</td><td>&quot;Playoffs&quot;</td><td>18203.0</td><td>1000052</td><td>&quot;NBA Finals&quot;</td><td>&quot;Game 5&quot;</td><td>5.0</td></tr><tr><td>42400404</td><td>&quot;2025-06-13 20:30:00&quot;</td><td>&quot;Indiana&quot;</td><td>&quot;Pacers&quot;</td><td>1610612754</td><td>&quot;Oklahoma City&quot;</td><td>&quot;Thunder&quot;</td><td>1610612760</td><td>104</td><td>111</td><td>1610612760</td><td>&quot;Playoffs&quot;</td><td>17274.0</td><td>1000063</td><td>&quot;NBA Finals&quot;</td><td>&quot;Game 4&quot;</td><td>4.0</td></tr><tr><td>42400403</td><td>&quot;2025-06-11 20:30:00&quot;</td><td>&quot;Indiana&quot;</td><td>&quot;Pacers&quot;</td><td>1610612754</td><td>&quot;Oklahoma City&quot;</td><td>&quot;Thunder&quot;</td><td>1610612760</td><td>116</td><td>107</td><td>1610612754</td><td>&quot;Playoffs&quot;</td><td>17274.0</td><td>1000063</td><td>&quot;NBA Finals&quot;</td><td>&quot;Game 3&quot;</td><td>3.0</td></tr><tr><td>&hellip;</td><td>&hellip;</td><td>&hellip;</td><td>&hellip;</td><td>&hellip;</td><td>&hellip;</td><td>&hellip;</td><td>&hellip;</td><td>&hellip;</td><td>&hellip;</td><td>&hellip;</td><td>&hellip;</td><td>&hellip;</td><td>&hellip;</td><td>&hellip;</td><td>&hellip;</td><td>&hellip;</td></tr><tr><td>24600083</td><td>&quot;1946-12-08 19:00:00&quot;</td><td>&quot;New York&quot;</td><td>&quot;Knicks&quot;</td><td>1610612752</td><td>&quot;Boston&quot;</td><td>&quot;Celtics&quot;</td><td>1610612738</td><td>62</td><td>44</td><td>1610612752</td><td>&quot;Regular Season&quot;</td><td>null</td><td>0</td><td>null</td><td>null</td><td>null</td></tr><tr><td>24600078</td><td>&quot;1946-12-07 19:00:00&quot;</td><td>&quot;Boston&quot;</td><td>&quot;Celtics&quot;</td><td>1610612738</td><td>&quot;New York&quot;</td><td>&quot;Knicks&quot;</td><td>1610612752</td><td>65</td><td>90</td><td>1610612752</td><td>&quot;Regular Season&quot;</td><td>null</td><td>0</td><td>null</td><td>null</td><td>null</td></tr><tr><td>24600076</td><td>&quot;1946-12-05 19:00:00&quot;</td><td>&quot;Philadelphia&quot;</td><td>&quot;Warriors&quot;</td><td>1610612744</td><td>&quot;New York&quot;</td><td>&quot;Knicks&quot;</td><td>1610612752</td><td>62</td><td>51</td><td>1610612744</td><td>&quot;Regular Season&quot;</td><td>null</td><td>0</td><td>null</td><td>null</td><td>null</td></tr><tr><td>24600063</td><td>&quot;1946-11-30 19:00:00&quot;</td><td>&quot;New York&quot;</td><td>&quot;Knicks&quot;</td><td>1610612752</td><td>&quot;Philadelphia&quot;</td><td>&quot;Warriors&quot;</td><td>1610612744</td><td>64</td><td>60</td><td>1610612752</td><td>&quot;Regular Season&quot;</td><td>null</td><td>0</td><td>null</td><td>null</td><td>null</td></tr><tr><td>24600052</td><td>&quot;1946-11-26 19:00:00&quot;</td><td>&quot;Philadelphia&quot;</td><td>&quot;Warriors&quot;</td><td>1610612744</td><td>&quot;Boston&quot;</td><td>&quot;Celtics&quot;</td><td>1610612738</td><td>66</td><td>54</td><td>1610612744</td><td>&quot;Regular Season&quot;</td><td>null</td><td>0</td><td>null</td><td>null</td><td>null</td></tr></tbody></table></div>"
            ],
            "text/plain": [
              "shape: (71_879, 17)\n",
              "┌──────────┬────────────┬────────────┬───────────┬───┬─────────┬───────────┬───────────┬───────────┐\n",
              "│ gameId   ┆ gameDate   ┆ hometeamCi ┆ hometeamN ┆ … ┆ arenaId ┆ gameLabel ┆ gameSubLa ┆ seriesGam │\n",
              "│ ---      ┆ ---        ┆ ty         ┆ ame       ┆   ┆ ---     ┆ ---       ┆ bel       ┆ eNumber   │\n",
              "│ i64      ┆ str        ┆ ---        ┆ ---       ┆   ┆ i64     ┆ str       ┆ ---       ┆ ---       │\n",
              "│          ┆            ┆ str        ┆ str       ┆   ┆         ┆           ┆ str       ┆ f64       │\n",
              "╞══════════╪════════════╪════════════╪═══════════╪═══╪═════════╪═══════════╪═══════════╪═══════════╡\n",
              "│ 42400407 ┆ 2025-06-22 ┆ Oklahoma   ┆ Thunder   ┆ … ┆ 1000052 ┆ NBA       ┆ Game 7    ┆ 7.0       │\n",
              "│          ┆ 20:00:00   ┆ City       ┆           ┆   ┆         ┆ Finals    ┆           ┆           │\n",
              "│ 42400406 ┆ 2025-06-19 ┆ Indiana    ┆ Pacers    ┆ … ┆ 1000063 ┆ NBA       ┆ Game 6    ┆ 6.0       │\n",
              "│          ┆ 20:30:00   ┆            ┆           ┆   ┆         ┆ Finals    ┆           ┆           │\n",
              "│ 42400405 ┆ 2025-06-16 ┆ Oklahoma   ┆ Thunder   ┆ … ┆ 1000052 ┆ NBA       ┆ Game 5    ┆ 5.0       │\n",
              "│          ┆ 20:30:00   ┆ City       ┆           ┆   ┆         ┆ Finals    ┆           ┆           │\n",
              "│ 42400404 ┆ 2025-06-13 ┆ Indiana    ┆ Pacers    ┆ … ┆ 1000063 ┆ NBA       ┆ Game 4    ┆ 4.0       │\n",
              "│          ┆ 20:30:00   ┆            ┆           ┆   ┆         ┆ Finals    ┆           ┆           │\n",
              "│ 42400403 ┆ 2025-06-11 ┆ Indiana    ┆ Pacers    ┆ … ┆ 1000063 ┆ NBA       ┆ Game 3    ┆ 3.0       │\n",
              "│          ┆ 20:30:00   ┆            ┆           ┆   ┆         ┆ Finals    ┆           ┆           │\n",
              "│ …        ┆ …          ┆ …          ┆ …         ┆ … ┆ …       ┆ …         ┆ …         ┆ …         │\n",
              "│ 24600083 ┆ 1946-12-08 ┆ New York   ┆ Knicks    ┆ … ┆ 0       ┆ null      ┆ null      ┆ null      │\n",
              "│          ┆ 19:00:00   ┆            ┆           ┆   ┆         ┆           ┆           ┆           │\n",
              "│ 24600078 ┆ 1946-12-07 ┆ Boston     ┆ Celtics   ┆ … ┆ 0       ┆ null      ┆ null      ┆ null      │\n",
              "│          ┆ 19:00:00   ┆            ┆           ┆   ┆         ┆           ┆           ┆           │\n",
              "│ 24600076 ┆ 1946-12-05 ┆ Philadelph ┆ Warriors  ┆ … ┆ 0       ┆ null      ┆ null      ┆ null      │\n",
              "│          ┆ 19:00:00   ┆ ia         ┆           ┆   ┆         ┆           ┆           ┆           │\n",
              "│ 24600063 ┆ 1946-11-30 ┆ New York   ┆ Knicks    ┆ … ┆ 0       ┆ null      ┆ null      ┆ null      │\n",
              "│          ┆ 19:00:00   ┆            ┆           ┆   ┆         ┆           ┆           ┆           │\n",
              "│ 24600052 ┆ 1946-11-26 ┆ Philadelph ┆ Warriors  ┆ … ┆ 0       ┆ null      ┆ null      ┆ null      │\n",
              "│          ┆ 19:00:00   ┆ ia         ┆           ┆   ┆         ┆           ┆           ┆           │\n",
              "└──────────┴────────────┴────────────┴───────────┴───┴─────────┴───────────┴───────────┴───────────┘"
            ]
          },
          "execution_count": 6,
          "metadata": {},
          "output_type": "execute_result"
        }
      ],
      "source": [
        "df"
      ]
    },
    {
      "cell_type": "code",
      "execution_count": 7,
      "metadata": {
        "colab": {
          "base_uri": "https://localhost:8080/"
        },
        "id": "snsKFdWSdDlQ",
        "outputId": "6929a45d-be8a-4912-fbf3-d46442aaa95a"
      },
      "outputs": [
        {
          "name": "stdout",
          "output_type": "stream",
          "text": [
            "shape: (1, 17)\n",
            "┌───────────┬───────────┬───────────┬───────────┬───┬───────────┬───────────┬───────────┬──────────┐\n",
            "│ gameId_nu ┆ gameDate_ ┆ hometeamC ┆ hometeamN ┆ … ┆ arenaId_n ┆ gameLabel ┆ gameSubLa ┆ seriesGa │\n",
            "│ los       ┆ nulos     ┆ ity_nulos ┆ ame_nulos ┆   ┆ ulos      ┆ _nulos    ┆ bel_nulos ┆ meNumber │\n",
            "│ ---       ┆ ---       ┆ ---       ┆ ---       ┆   ┆ ---       ┆ ---       ┆ ---       ┆ _nulos   │\n",
            "│ u32       ┆ u32       ┆ u32       ┆ u32       ┆   ┆ u32       ┆ u32       ┆ u32       ┆ ---      │\n",
            "│           ┆           ┆           ┆           ┆   ┆           ┆           ┆           ┆ u32      │\n",
            "╞═══════════╪═══════════╪═══════════╪═══════════╪═══╪═══════════╪═══════════╪═══════════╪══════════╡\n",
            "│ 0         ┆ 0         ┆ 0         ┆ 0         ┆ … ┆ 0         ┆ 68087     ┆ 71721     ┆ 66141    │\n",
            "└───────────┴───────────┴───────────┴───────────┴───┴───────────┴───────────┴───────────┴──────────┘\n"
          ]
        }
      ],
      "source": [
        "# Contar los nulos por columna\n",
        "nulos_por_columna = df.select([\n",
        "    pl.col(col).is_null().sum().alias(f\"{col}_nulos\")\n",
        "    for col in df.columns\n",
        "])\n",
        "\n",
        "print(nulos_por_columna)"
      ]
    },
    {
      "cell_type": "code",
      "execution_count": 8,
      "metadata": {
        "colab": {
          "base_uri": "https://localhost:8080/"
        },
        "id": "VOe29ZV-eZzp",
        "outputId": "e3638ac8-b596-454e-813a-8d2a5cb46fd0"
      },
      "outputs": [
        {
          "name": "stdout",
          "output_type": "stream",
          "text": [
            "shape: (0, 17)\n",
            "┌────────┬──────────┬─────────────┬────────────┬───┬─────────┬───────────┬────────────┬────────────┐\n",
            "│ gameId ┆ gameDate ┆ hometeamCit ┆ hometeamNa ┆ … ┆ arenaId ┆ gameLabel ┆ gameSubLab ┆ seriesGame │\n",
            "│ ---    ┆ ---      ┆ y           ┆ me         ┆   ┆ ---     ┆ ---       ┆ el         ┆ Number     │\n",
            "│ i64    ┆ str      ┆ ---         ┆ ---        ┆   ┆ i64     ┆ str       ┆ ---        ┆ ---        │\n",
            "│        ┆          ┆ str         ┆ str        ┆   ┆         ┆           ┆ str        ┆ f64        │\n",
            "╞════════╪══════════╪═════════════╪════════════╪═══╪═════════╪═══════════╪════════════╪════════════╡\n",
            "└────────┴──────────┴─────────────┴────────────┴───┴─────────┴───────────┴────────────┴────────────┘\n"
          ]
        }
      ],
      "source": [
        "duplicados = df.filter(df.is_duplicated())\n",
        "print(duplicados)"
      ]
    },
    {
      "cell_type": "code",
      "execution_count": 9,
      "metadata": {
        "colab": {
          "base_uri": "https://localhost:8080/"
        },
        "id": "lLGg3b1efPUY",
        "outputId": "2307566d-1c27-4556-d143-09f0fb3f4eff"
      },
      "outputs": [
        {
          "name": "stdout",
          "output_type": "stream",
          "text": [
            "Número de filas duplicadas: 0\n"
          ]
        }
      ],
      "source": [
        "num_duplicados = df.is_duplicated().sum()\n",
        "print(f\"Número de filas duplicadas: {num_duplicados}\")"
      ]
    },
    {
      "cell_type": "code",
      "execution_count": 10,
      "metadata": {
        "colab": {
          "base_uri": "https://localhost:8080/",
          "height": 470
        },
        "id": "QqQmPAFjfmXu",
        "outputId": "2c81435e-44d8-4a36-9e32-46032d79e746"
      },
      "outputs": [
        {
          "data": {
            "text/html": [
              "<div><style>\n",
              ".dataframe > thead > tr,\n",
              ".dataframe > tbody > tr {\n",
              "  text-align: right;\n",
              "  white-space: pre-wrap;\n",
              "}\n",
              "</style>\n",
              "<small>shape: (9, 18)</small><table border=\"1\" class=\"dataframe\"><thead><tr><th>statistic</th><th>gameId</th><th>gameDate</th><th>hometeamCity</th><th>hometeamName</th><th>hometeamId</th><th>awayteamCity</th><th>awayteamName</th><th>awayteamId</th><th>homeScore</th><th>awayScore</th><th>winner</th><th>gameType</th><th>attendance</th><th>arenaId</th><th>gameLabel</th><th>gameSubLabel</th><th>seriesGameNumber</th></tr><tr><td>str</td><td>f64</td><td>str</td><td>str</td><td>str</td><td>f64</td><td>str</td><td>str</td><td>f64</td><td>f64</td><td>f64</td><td>f64</td><td>str</td><td>f64</td><td>f64</td><td>str</td><td>str</td><td>f64</td></tr></thead><tbody><tr><td>&quot;count&quot;</td><td>71879.0</td><td>&quot;71879&quot;</td><td>&quot;71879&quot;</td><td>&quot;71879&quot;</td><td>71879.0</td><td>&quot;71879&quot;</td><td>&quot;71879&quot;</td><td>71879.0</td><td>71879.0</td><td>71879.0</td><td>71879.0</td><td>&quot;71879&quot;</td><td>66850.0</td><td>71879.0</td><td>&quot;3792&quot;</td><td>&quot;158&quot;</td><td>5738.0</td></tr><tr><td>&quot;null_count&quot;</td><td>0.0</td><td>&quot;0&quot;</td><td>&quot;0&quot;</td><td>&quot;0&quot;</td><td>0.0</td><td>&quot;0&quot;</td><td>&quot;0&quot;</td><td>0.0</td><td>0.0</td><td>0.0</td><td>0.0</td><td>&quot;0&quot;</td><td>5029.0</td><td>0.0</td><td>&quot;68087&quot;</td><td>&quot;71721&quot;</td><td>66141.0</td></tr><tr><td>&quot;mean&quot;</td><td>2.5832e7</td><td>null</td><td>null</td><td>null</td><td>1.6106e9</td><td>null</td><td>null</td><td>1.6106e9</td><td>105.849288</td><td>102.272291</td><td>1.6106e9</td><td>null</td><td>14972.900419</td><td>35684.167865</td><td>null</td><td>null</td><td>2.49634</td></tr><tr><td>&quot;std&quot;</td><td>6.4206e6</td><td>null</td><td>null</td><td>null</td><td>8.660615</td><td>null</td><td>null</td><td>8.675833</td><td>14.256426</td><td>13.882186</td><td>8.635588</td><td>null</td><td>5156.110187</td><td>185290.471289</td><td>null</td><td>null</td><td>2.017287</td></tr><tr><td>&quot;min&quot;</td><td>1.0300001e7</td><td>&quot;1946-11-26 19:00:00&quot;</td><td>&quot;Atlanta&quot;</td><td>&quot;76ers&quot;</td><td>1.6106e9</td><td>&quot;Atlanta&quot;</td><td>&quot;76ers&quot;</td><td>1.6106e9</td><td>0.0</td><td>0.0</td><td>1.6106e9</td><td>&quot;NBA Cup&quot;</td><td>9.0</td><td>0.0</td><td>&quot;East - &quot;</td><td>&quot;Championship&quot;</td><td>0.0</td></tr><tr><td>&quot;25%&quot;</td><td>2.1300584e7</td><td>null</td><td>null</td><td>null</td><td>1.6106e9</td><td>null</td><td>null</td><td>1.6106e9</td><td>96.0</td><td>93.0</td><td>1.6106e9</td><td>null</td><td>11953.0</td><td>5.0</td><td>null</td><td>null</td><td>1.0</td></tr><tr><td>&quot;50%&quot;</td><td>2.6300224e7</td><td>null</td><td>null</td><td>null</td><td>1.6106e9</td><td>null</td><td>null</td><td>1.6106e9</td><td>106.0</td><td>102.0</td><td>1.6106e9</td><td>null</td><td>16184.0</td><td>44.0</td><td>null</td><td>null</td><td>2.0</td></tr><tr><td>&quot;75%&quot;</td><td>2.8700596e7</td><td>null</td><td>null</td><td>null</td><td>1.6106e9</td><td>null</td><td>null</td><td>1.6106e9</td><td>115.0</td><td>111.0</td><td>1.6106e9</td><td>null</td><td>18676.0</td><td>135.0</td><td>null</td><td>null</td><td>4.0</td></tr><tr><td>&quot;max&quot;</td><td>6.2400001e7</td><td>&quot;2025-06-22 20:00:00&quot;</td><td>&quot;Washington&quot;</td><td>&quot;Zephyrs&quot;</td><td>1.6106e9</td><td>&quot;Washington&quot;</td><td>&quot;Zephyrs&quot;</td><td>1.6106e9</td><td>184.0</td><td>186.0</td><td>1.6106e9</td><td>&quot;Regular Season&quot;</td><td>200049.0</td><td>1.000145e6</td><td>&quot;West Play-In&quot;</td><td>&quot;West Semifinal&quot;</td><td>7.0</td></tr></tbody></table></div>"
            ],
            "text/plain": [
              "shape: (9, 18)\n",
              "┌───────────┬───────────┬───────────┬───────────┬───┬───────────┬───────────┬───────────┬──────────┐\n",
              "│ statistic ┆ gameId    ┆ gameDate  ┆ hometeamC ┆ … ┆ arenaId   ┆ gameLabel ┆ gameSubLa ┆ seriesGa │\n",
              "│ ---       ┆ ---       ┆ ---       ┆ ity       ┆   ┆ ---       ┆ ---       ┆ bel       ┆ meNumber │\n",
              "│ str       ┆ f64       ┆ str       ┆ ---       ┆   ┆ f64       ┆ str       ┆ ---       ┆ ---      │\n",
              "│           ┆           ┆           ┆ str       ┆   ┆           ┆           ┆ str       ┆ f64      │\n",
              "╞═══════════╪═══════════╪═══════════╪═══════════╪═══╪═══════════╪═══════════╪═══════════╪══════════╡\n",
              "│ count     ┆ 71879.0   ┆ 71879     ┆ 71879     ┆ … ┆ 71879.0   ┆ 3792      ┆ 158       ┆ 5738.0   │\n",
              "│ null_coun ┆ 0.0       ┆ 0         ┆ 0         ┆ … ┆ 0.0       ┆ 68087     ┆ 71721     ┆ 66141.0  │\n",
              "│ t         ┆           ┆           ┆           ┆   ┆           ┆           ┆           ┆          │\n",
              "│ mean      ┆ 2.5832e7  ┆ null      ┆ null      ┆ … ┆ 35684.167 ┆ null      ┆ null      ┆ 2.49634  │\n",
              "│           ┆           ┆           ┆           ┆   ┆ 865       ┆           ┆           ┆          │\n",
              "│ std       ┆ 6.4206e6  ┆ null      ┆ null      ┆ … ┆ 185290.47 ┆ null      ┆ null      ┆ 2.017287 │\n",
              "│           ┆           ┆           ┆           ┆   ┆ 1289      ┆           ┆           ┆          │\n",
              "│ min       ┆ 1.0300001 ┆ 1946-11-2 ┆ Atlanta   ┆ … ┆ 0.0       ┆ East -    ┆ Champions ┆ 0.0      │\n",
              "│           ┆ e7        ┆ 6         ┆           ┆   ┆           ┆           ┆ hip       ┆          │\n",
              "│           ┆           ┆ 19:00:00  ┆           ┆   ┆           ┆           ┆           ┆          │\n",
              "│ 25%       ┆ 2.1300584 ┆ null      ┆ null      ┆ … ┆ 5.0       ┆ null      ┆ null      ┆ 1.0      │\n",
              "│           ┆ e7        ┆           ┆           ┆   ┆           ┆           ┆           ┆          │\n",
              "│ 50%       ┆ 2.6300224 ┆ null      ┆ null      ┆ … ┆ 44.0      ┆ null      ┆ null      ┆ 2.0      │\n",
              "│           ┆ e7        ┆           ┆           ┆   ┆           ┆           ┆           ┆          │\n",
              "│ 75%       ┆ 2.8700596 ┆ null      ┆ null      ┆ … ┆ 135.0     ┆ null      ┆ null      ┆ 4.0      │\n",
              "│           ┆ e7        ┆           ┆           ┆   ┆           ┆           ┆           ┆          │\n",
              "│ max       ┆ 6.2400001 ┆ 2025-06-2 ┆ Washingto ┆ … ┆ 1.000145e ┆ West      ┆ West      ┆ 7.0      │\n",
              "│           ┆ e7        ┆ 2         ┆ n         ┆   ┆ 6         ┆ Play-In   ┆ Semifinal ┆          │\n",
              "│           ┆           ┆ 20:00:00  ┆           ┆   ┆           ┆           ┆           ┆          │\n",
              "└───────────┴───────────┴───────────┴───────────┴───┴───────────┴───────────┴───────────┴──────────┘"
            ]
          },
          "execution_count": 10,
          "metadata": {},
          "output_type": "execute_result"
        }
      ],
      "source": [
        "df.describe()"
      ]
    }
  ],
  "metadata": {
    "colab": {
      "provenance": []
    },
    "kernelspec": {
      "display_name": "polarsnba",
      "language": "python",
      "name": "python3"
    },
    "language_info": {
      "codemirror_mode": {
        "name": "ipython",
        "version": 3
      },
      "file_extension": ".py",
      "mimetype": "text/x-python",
      "name": "python",
      "nbconvert_exporter": "python",
      "pygments_lexer": "ipython3",
      "version": "3.12.3"
    }
  },
  "nbformat": 4,
  "nbformat_minor": 0
}
