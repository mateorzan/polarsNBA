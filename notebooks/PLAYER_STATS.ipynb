{
  "cells": [
    {
      "cell_type": "code",
      "execution_count": 1,
      "metadata": {
        "colab": {
          "base_uri": "https://localhost:8080/"
        },
        "id": "v5QrZnVNa8LX",
        "outputId": "38c193b7-51cd-42f6-c52f-02b017a1097e"
      },
      "outputs": [],
      "source": [
        "import polars as pl"
      ]
    },
    {
      "cell_type": "markdown",
      "metadata": {},
      "source": [
        "# DATASET SACADO DE KAGGLE (https://www.kaggle.com/datasets/eoinamoore/historical-nba-data-and-player-box-scores)"
      ]
    },
    {
      "cell_type": "markdown",
      "metadata": {},
      "source": [
        "## LIMPIEZA PLAYERS STATS"
      ]
    },
    {
      "cell_type": "code",
      "execution_count": null,
      "metadata": {
        "id": "lwsAnhcDboYz"
      },
      "outputs": [],
      "source": [
        "df_players_stats = pl.read_csv('/home/uvuser/polarsNBA/archive/raw/PlayerStatistics.csv')"
      ]
    },
    {
      "cell_type": "code",
      "execution_count": null,
      "metadata": {
        "colab": {
          "base_uri": "https://localhost:8080/",
          "height": 810
        },
        "id": "cghRObUBcPwG",
        "outputId": "bd7357d1-d637-4f7e-9665-af4c956888fb"
      },
      "outputs": [
        {
          "data": {
            "text/html": [
              "<div><style>\n",
              ".dataframe > thead > tr,\n",
              ".dataframe > tbody > tr {\n",
              "  text-align: right;\n",
              "  white-space: pre-wrap;\n",
              "}\n",
              "</style>\n",
              "<small>shape: (1_627_438, 35)</small><table border=\"1\" class=\"dataframe\"><thead><tr><th>firstName</th><th>lastName</th><th>personId</th><th>gameId</th><th>gameDate</th><th>playerteamCity</th><th>playerteamName</th><th>opponentteamCity</th><th>opponentteamName</th><th>gameType</th><th>gameLabel</th><th>gameSubLabel</th><th>seriesGameNumber</th><th>win</th><th>home</th><th>numMinutes</th><th>points</th><th>assists</th><th>blocks</th><th>steals</th><th>fieldGoalsAttempted</th><th>fieldGoalsMade</th><th>fieldGoalsPercentage</th><th>threePointersAttempted</th><th>threePointersMade</th><th>threePointersPercentage</th><th>freeThrowsAttempted</th><th>freeThrowsMade</th><th>freeThrowsPercentage</th><th>reboundsDefensive</th><th>reboundsOffensive</th><th>reboundsTotal</th><th>foulsPersonal</th><th>turnovers</th><th>plusMinusPoints</th></tr><tr><td>str</td><td>str</td><td>i64</td><td>i64</td><td>str</td><td>str</td><td>str</td><td>str</td><td>str</td><td>str</td><td>str</td><td>str</td><td>f64</td><td>i64</td><td>i64</td><td>f64</td><td>f64</td><td>f64</td><td>f64</td><td>f64</td><td>f64</td><td>f64</td><td>f64</td><td>f64</td><td>f64</td><td>f64</td><td>f64</td><td>f64</td><td>f64</td><td>f64</td><td>f64</td><td>f64</td><td>f64</td><td>f64</td><td>f64</td></tr></thead><tbody><tr><td>&quot;James&quot;</td><td>&quot;Johnson&quot;</td><td>201949</td><td>42400407</td><td>&quot;2025-06-22 20:00:00&quot;</td><td>&quot;Indiana&quot;</td><td>&quot;Pacers&quot;</td><td>&quot;Oklahoma City&quot;</td><td>&quot;Thunder&quot;</td><td>&quot;Playoffs&quot;</td><td>&quot;NBA Finals&quot;</td><td>&quot;Game 7&quot;</td><td>7.0</td><td>0</td><td>0</td><td>null</td><td>0.0</td><td>0.0</td><td>0.0</td><td>0.0</td><td>0.0</td><td>0.0</td><td>0.0</td><td>0.0</td><td>0.0</td><td>0.0</td><td>0.0</td><td>0.0</td><td>0.0</td><td>0.0</td><td>0.0</td><td>0.0</td><td>0.0</td><td>0.0</td><td>0.0</td></tr><tr><td>&quot;T.J.&quot;</td><td>&quot;McConnell&quot;</td><td>204456</td><td>42400407</td><td>&quot;2025-06-22 20:00:00&quot;</td><td>&quot;Indiana&quot;</td><td>&quot;Pacers&quot;</td><td>&quot;Oklahoma City&quot;</td><td>&quot;Thunder&quot;</td><td>&quot;Playoffs&quot;</td><td>&quot;NBA Finals&quot;</td><td>&quot;Game 7&quot;</td><td>7.0</td><td>0</td><td>0</td><td>28.05</td><td>16.0</td><td>3.0</td><td>1.0</td><td>1.0</td><td>13.0</td><td>8.0</td><td>0.615</td><td>0.0</td><td>0.0</td><td>0.0</td><td>0.0</td><td>0.0</td><td>0.0</td><td>6.0</td><td>0.0</td><td>6.0</td><td>2.0</td><td>7.0</td><td>-12.0</td></tr><tr><td>&quot;Myles&quot;</td><td>&quot;Turner&quot;</td><td>1626167</td><td>42400407</td><td>&quot;2025-06-22 20:00:00&quot;</td><td>&quot;Indiana&quot;</td><td>&quot;Pacers&quot;</td><td>&quot;Oklahoma City&quot;</td><td>&quot;Thunder&quot;</td><td>&quot;Playoffs&quot;</td><td>&quot;NBA Finals&quot;</td><td>&quot;Game 7&quot;</td><td>7.0</td><td>0</td><td>0</td><td>23.49</td><td>6.0</td><td>1.0</td><td>0.0</td><td>0.0</td><td>4.0</td><td>2.0</td><td>0.5</td><td>3.0</td><td>1.0</td><td>0.333</td><td>4.0</td><td>1.0</td><td>0.25</td><td>3.0</td><td>1.0</td><td>4.0</td><td>3.0</td><td>1.0</td><td>-12.0</td></tr><tr><td>&quot;Pascal&quot;</td><td>&quot;Siakam&quot;</td><td>1627783</td><td>42400407</td><td>&quot;2025-06-22 20:00:00&quot;</td><td>&quot;Indiana&quot;</td><td>&quot;Pacers&quot;</td><td>&quot;Oklahoma City&quot;</td><td>&quot;Thunder&quot;</td><td>&quot;Playoffs&quot;</td><td>&quot;NBA Finals&quot;</td><td>&quot;Game 7&quot;</td><td>7.0</td><td>0</td><td>0</td><td>36.55</td><td>16.0</td><td>2.0</td><td>1.0</td><td>1.0</td><td>13.0</td><td>5.0</td><td>0.385</td><td>5.0</td><td>2.0</td><td>0.4</td><td>7.0</td><td>4.0</td><td>0.571</td><td>3.0</td><td>1.0</td><td>4.0</td><td>2.0</td><td>1.0</td><td>-4.0</td></tr><tr><td>&quot;Alex&quot;</td><td>&quot;Caruso&quot;</td><td>1627936</td><td>42400407</td><td>&quot;2025-06-22 20:00:00&quot;</td><td>&quot;Oklahoma City&quot;</td><td>&quot;Thunder&quot;</td><td>&quot;Indiana&quot;</td><td>&quot;Pacers&quot;</td><td>&quot;Playoffs&quot;</td><td>&quot;NBA Finals&quot;</td><td>&quot;Game 7&quot;</td><td>7.0</td><td>1</td><td>1</td><td>32.25</td><td>10.0</td><td>0.0</td><td>1.0</td><td>3.0</td><td>10.0</td><td>4.0</td><td>0.4</td><td>5.0</td><td>2.0</td><td>0.4</td><td>0.0</td><td>0.0</td><td>0.0</td><td>1.0</td><td>2.0</td><td>3.0</td><td>3.0</td><td>0.0</td><td>8.0</td></tr><tr><td>&hellip;</td><td>&hellip;</td><td>&hellip;</td><td>&hellip;</td><td>&hellip;</td><td>&hellip;</td><td>&hellip;</td><td>&hellip;</td><td>&hellip;</td><td>&hellip;</td><td>&hellip;</td><td>&hellip;</td><td>&hellip;</td><td>&hellip;</td><td>&hellip;</td><td>&hellip;</td><td>&hellip;</td><td>&hellip;</td><td>&hellip;</td><td>&hellip;</td><td>&hellip;</td><td>&hellip;</td><td>&hellip;</td><td>&hellip;</td><td>&hellip;</td><td>&hellip;</td><td>&hellip;</td><td>&hellip;</td><td>&hellip;</td><td>&hellip;</td><td>&hellip;</td><td>&hellip;</td><td>&hellip;</td><td>&hellip;</td><td>&hellip;</td></tr><tr><td>&quot;Fred&quot;</td><td>&quot;Sheffield&quot;</td><td>78131</td><td>24600052</td><td>&quot;1946-11-26 19:00:00&quot;</td><td>&quot;Philadelphia&quot;</td><td>&quot;Warriors&quot;</td><td>&quot;Boston&quot;</td><td>&quot;Celtics&quot;</td><td>&quot;Regular Season&quot;</td><td>null</td><td>null</td><td>null</td><td>1</td><td>1</td><td>0.0</td><td>1.0</td><td>0.0</td><td>0.0</td><td>0.0</td><td>0.0</td><td>0.0</td><td>0.0</td><td>0.0</td><td>0.0</td><td>0.0</td><td>0.0</td><td>1.0</td><td>0.0</td><td>0.0</td><td>0.0</td><td>0.0</td><td>0.0</td><td>0.0</td><td>0.0</td></tr><tr><td>&quot;Connie&quot;</td><td>&quot;Simmons&quot;</td><td>78153</td><td>24600052</td><td>&quot;1946-11-26 19:00:00&quot;</td><td>&quot;Boston&quot;</td><td>&quot;Celtics&quot;</td><td>&quot;Philadelphia&quot;</td><td>&quot;Warriors&quot;</td><td>&quot;Regular Season&quot;</td><td>null</td><td>null</td><td>null</td><td>0</td><td>0</td><td>0.0</td><td>15.0</td><td>0.0</td><td>0.0</td><td>0.0</td><td>0.0</td><td>5.0</td><td>0.0</td><td>0.0</td><td>0.0</td><td>0.0</td><td>0.0</td><td>5.0</td><td>0.0</td><td>0.0</td><td>0.0</td><td>0.0</td><td>0.0</td><td>0.0</td><td>0.0</td></tr><tr><td>&quot;Johnny&quot;</td><td>&quot;Simmons&quot;</td><td>78154</td><td>24600052</td><td>&quot;1946-11-26 19:00:00&quot;</td><td>&quot;Boston&quot;</td><td>&quot;Celtics&quot;</td><td>&quot;Philadelphia&quot;</td><td>&quot;Warriors&quot;</td><td>&quot;Regular Season&quot;</td><td>null</td><td>null</td><td>null</td><td>0</td><td>0</td><td>0.0</td><td>14.0</td><td>0.0</td><td>0.0</td><td>0.0</td><td>0.0</td><td>6.0</td><td>0.0</td><td>0.0</td><td>0.0</td><td>0.0</td><td>0.0</td><td>2.0</td><td>0.0</td><td>0.0</td><td>0.0</td><td>0.0</td><td>0.0</td><td>0.0</td><td>0.0</td></tr><tr><td>&quot;Virgil&quot;</td><td>&quot;Vaughn&quot;</td><td>78411</td><td>24600052</td><td>&quot;1946-11-26 19:00:00&quot;</td><td>&quot;Boston&quot;</td><td>&quot;Celtics&quot;</td><td>&quot;Philadelphia&quot;</td><td>&quot;Warriors&quot;</td><td>&quot;Regular Season&quot;</td><td>null</td><td>null</td><td>null</td><td>0</td><td>0</td><td>0.0</td><td>4.0</td><td>0.0</td><td>0.0</td><td>0.0</td><td>0.0</td><td>1.0</td><td>0.0</td><td>0.0</td><td>0.0</td><td>0.0</td><td>0.0</td><td>2.0</td><td>0.0</td><td>0.0</td><td>0.0</td><td>0.0</td><td>0.0</td><td>0.0</td><td>0.0</td></tr><tr><td>&quot;Michael&quot;</td><td>&quot;Wallace&quot;</td><td>78443</td><td>24600052</td><td>&quot;1946-11-26 19:00:00&quot;</td><td>&quot;Boston&quot;</td><td>&quot;Celtics&quot;</td><td>&quot;Philadelphia&quot;</td><td>&quot;Warriors&quot;</td><td>&quot;Regular Season&quot;</td><td>null</td><td>null</td><td>null</td><td>0</td><td>0</td><td>0.0</td><td>1.0</td><td>0.0</td><td>0.0</td><td>0.0</td><td>0.0</td><td>0.0</td><td>0.0</td><td>0.0</td><td>0.0</td><td>0.0</td><td>0.0</td><td>1.0</td><td>0.0</td><td>0.0</td><td>0.0</td><td>0.0</td><td>0.0</td><td>0.0</td><td>0.0</td></tr></tbody></table></div>"
            ],
            "text/plain": [
              "shape: (1_627_438, 35)\n",
              "┌───────────┬───────────┬──────────┬──────────┬───┬────────────┬───────────┬───────────┬───────────┐\n",
              "│ firstName ┆ lastName  ┆ personId ┆ gameId   ┆ … ┆ reboundsTo ┆ foulsPers ┆ turnovers ┆ plusMinus │\n",
              "│ ---       ┆ ---       ┆ ---      ┆ ---      ┆   ┆ tal        ┆ onal      ┆ ---       ┆ Points    │\n",
              "│ str       ┆ str       ┆ i64      ┆ i64      ┆   ┆ ---        ┆ ---       ┆ f64       ┆ ---       │\n",
              "│           ┆           ┆          ┆          ┆   ┆ f64        ┆ f64       ┆           ┆ f64       │\n",
              "╞═══════════╪═══════════╪══════════╪══════════╪═══╪════════════╪═══════════╪═══════════╪═══════════╡\n",
              "│ James     ┆ Johnson   ┆ 201949   ┆ 42400407 ┆ … ┆ 0.0        ┆ 0.0       ┆ 0.0       ┆ 0.0       │\n",
              "│ T.J.      ┆ McConnell ┆ 204456   ┆ 42400407 ┆ … ┆ 6.0        ┆ 2.0       ┆ 7.0       ┆ -12.0     │\n",
              "│ Myles     ┆ Turner    ┆ 1626167  ┆ 42400407 ┆ … ┆ 4.0        ┆ 3.0       ┆ 1.0       ┆ -12.0     │\n",
              "│ Pascal    ┆ Siakam    ┆ 1627783  ┆ 42400407 ┆ … ┆ 4.0        ┆ 2.0       ┆ 1.0       ┆ -4.0      │\n",
              "│ Alex      ┆ Caruso    ┆ 1627936  ┆ 42400407 ┆ … ┆ 3.0        ┆ 3.0       ┆ 0.0       ┆ 8.0       │\n",
              "│ …         ┆ …         ┆ …        ┆ …        ┆ … ┆ …          ┆ …         ┆ …         ┆ …         │\n",
              "│ Fred      ┆ Sheffield ┆ 78131    ┆ 24600052 ┆ … ┆ 0.0        ┆ 0.0       ┆ 0.0       ┆ 0.0       │\n",
              "│ Connie    ┆ Simmons   ┆ 78153    ┆ 24600052 ┆ … ┆ 0.0        ┆ 0.0       ┆ 0.0       ┆ 0.0       │\n",
              "│ Johnny    ┆ Simmons   ┆ 78154    ┆ 24600052 ┆ … ┆ 0.0        ┆ 0.0       ┆ 0.0       ┆ 0.0       │\n",
              "│ Virgil    ┆ Vaughn    ┆ 78411    ┆ 24600052 ┆ … ┆ 0.0        ┆ 0.0       ┆ 0.0       ┆ 0.0       │\n",
              "│ Michael   ┆ Wallace   ┆ 78443    ┆ 24600052 ┆ … ┆ 0.0        ┆ 0.0       ┆ 0.0       ┆ 0.0       │\n",
              "└───────────┴───────────┴──────────┴──────────┴───┴────────────┴───────────┴───────────┴───────────┘"
            ]
          },
          "execution_count": 3,
          "metadata": {},
          "output_type": "execute_result"
        }
      ],
      "source": [
        "df_players_stats"
      ]
    },
    {
      "cell_type": "code",
      "execution_count": null,
      "metadata": {
        "colab": {
          "base_uri": "https://localhost:8080/"
        },
        "id": "snsKFdWSdDlQ",
        "outputId": "6929a45d-be8a-4912-fbf3-d46442aaa95a"
      },
      "outputs": [
        {
          "name": "stdout",
          "output_type": "stream",
          "text": [
            "shape: (1, 35)\n",
            "┌───────────┬───────────┬───────────┬───────────┬───┬───────────┬───────────┬───────────┬──────────┐\n",
            "│ firstName ┆ lastName_ ┆ personId_ ┆ gameId_nu ┆ … ┆ reboundsT ┆ foulsPers ┆ turnovers ┆ plusMinu │\n",
            "│ _nulos    ┆ nulos     ┆ nulos     ┆ los       ┆   ┆ otal_nulo ┆ onal_nulo ┆ _nulos    ┆ sPoints_ │\n",
            "│ ---       ┆ ---       ┆ ---       ┆ ---       ┆   ┆ s         ┆ s         ┆ ---       ┆ nulos    │\n",
            "│ u32       ┆ u32       ┆ u32       ┆ u32       ┆   ┆ ---       ┆ ---       ┆ u32       ┆ ---      │\n",
            "│           ┆           ┆           ┆           ┆   ┆ u32       ┆ u32       ┆           ┆ u32      │\n",
            "╞═══════════╪═══════════╪═══════════╪═══════════╪═══╪═══════════╪═══════════╪═══════════╪══════════╡\n",
            "│ 0         ┆ 0         ┆ 0         ┆ 0         ┆ … ┆ 1219      ┆ 1219      ┆ 1219      ┆ 1219     │\n",
            "└───────────┴───────────┴───────────┴───────────┴───┴───────────┴───────────┴───────────┴──────────┘\n"
          ]
        }
      ],
      "source": [
        "# Contar los nulos por columna\n",
        "nulos_por_columna = df_players_stats.select([\n",
        "    pl.col(col).is_null().sum().alias(f\"{col}_nulos\")\n",
        "    for col in df_players_stats.columns\n",
        "])\n",
        "\n",
        "print(nulos_por_columna)"
      ]
    },
    {
      "cell_type": "code",
      "execution_count": null,
      "metadata": {
        "colab": {
          "base_uri": "https://localhost:8080/"
        },
        "id": "VOe29ZV-eZzp",
        "outputId": "e3638ac8-b596-454e-813a-8d2a5cb46fd0"
      },
      "outputs": [
        {
          "name": "stdout",
          "output_type": "stream",
          "text": [
            "shape: (0, 35)\n",
            "┌───────────┬──────────┬──────────┬────────┬───┬─────────────┬────────────┬───────────┬────────────┐\n",
            "│ firstName ┆ lastName ┆ personId ┆ gameId ┆ … ┆ reboundsTot ┆ foulsPerso ┆ turnovers ┆ plusMinusP │\n",
            "│ ---       ┆ ---      ┆ ---      ┆ ---    ┆   ┆ al          ┆ nal        ┆ ---       ┆ oints      │\n",
            "│ str       ┆ str      ┆ i64      ┆ i64    ┆   ┆ ---         ┆ ---        ┆ f64       ┆ ---        │\n",
            "│           ┆          ┆          ┆        ┆   ┆ f64         ┆ f64        ┆           ┆ f64        │\n",
            "╞═══════════╪══════════╪══════════╪════════╪═══╪═════════════╪════════════╪═══════════╪════════════╡\n",
            "└───────────┴──────────┴──────────┴────────┴───┴─────────────┴────────────┴───────────┴────────────┘\n"
          ]
        }
      ],
      "source": [
        "duplicados = df_players_stats.filter(df_players_stats.is_duplicated())\n",
        "print(duplicados)"
      ]
    },
    {
      "cell_type": "code",
      "execution_count": null,
      "metadata": {
        "colab": {
          "base_uri": "https://localhost:8080/"
        },
        "id": "lLGg3b1efPUY",
        "outputId": "2307566d-1c27-4556-d143-09f0fb3f4eff"
      },
      "outputs": [
        {
          "name": "stdout",
          "output_type": "stream",
          "text": [
            "Número de filas duplicadas: 0\n"
          ]
        }
      ],
      "source": [
        "num_duplicados = df_players_stats.is_duplicated().sum()\n",
        "print(f\"Número de filas duplicadas: {num_duplicados}\")"
      ]
    },
    {
      "cell_type": "code",
      "execution_count": null,
      "metadata": {
        "colab": {
          "base_uri": "https://localhost:8080/",
          "height": 470
        },
        "id": "QqQmPAFjfmXu",
        "outputId": "2c81435e-44d8-4a36-9e32-46032d79e746"
      },
      "outputs": [
        {
          "data": {
            "text/html": [
              "<div><style>\n",
              ".dataframe > thead > tr,\n",
              ".dataframe > tbody > tr {\n",
              "  text-align: right;\n",
              "  white-space: pre-wrap;\n",
              "}\n",
              "</style>\n",
              "<small>shape: (9, 36)</small><table border=\"1\" class=\"dataframe\"><thead><tr><th>statistic</th><th>firstName</th><th>lastName</th><th>personId</th><th>gameId</th><th>gameDate</th><th>playerteamCity</th><th>playerteamName</th><th>opponentteamCity</th><th>opponentteamName</th><th>gameType</th><th>gameLabel</th><th>gameSubLabel</th><th>seriesGameNumber</th><th>win</th><th>home</th><th>numMinutes</th><th>points</th><th>assists</th><th>blocks</th><th>steals</th><th>fieldGoalsAttempted</th><th>fieldGoalsMade</th><th>fieldGoalsPercentage</th><th>threePointersAttempted</th><th>threePointersMade</th><th>threePointersPercentage</th><th>freeThrowsAttempted</th><th>freeThrowsMade</th><th>freeThrowsPercentage</th><th>reboundsDefensive</th><th>reboundsOffensive</th><th>reboundsTotal</th><th>foulsPersonal</th><th>turnovers</th><th>plusMinusPoints</th></tr><tr><td>str</td><td>str</td><td>str</td><td>f64</td><td>f64</td><td>str</td><td>str</td><td>str</td><td>str</td><td>str</td><td>str</td><td>str</td><td>str</td><td>f64</td><td>f64</td><td>f64</td><td>f64</td><td>f64</td><td>f64</td><td>f64</td><td>f64</td><td>f64</td><td>f64</td><td>f64</td><td>f64</td><td>f64</td><td>f64</td><td>f64</td><td>f64</td><td>f64</td><td>f64</td><td>f64</td><td>f64</td><td>f64</td><td>f64</td><td>f64</td></tr></thead><tbody><tr><td>&quot;count&quot;</td><td>&quot;1627438&quot;</td><td>&quot;1627438&quot;</td><td>1.627438e6</td><td>1.627438e6</td><td>&quot;1627438&quot;</td><td>&quot;1627438&quot;</td><td>&quot;1627438&quot;</td><td>&quot;1627438&quot;</td><td>&quot;1627438&quot;</td><td>&quot;1627438&quot;</td><td>&quot;90583&quot;</td><td>&quot;4387&quot;</td><td>135048.0</td><td>1.627438e6</td><td>1.627438e6</td><td>1.46588e6</td><td>1.626219e6</td><td>1.626219e6</td><td>1.626219e6</td><td>1.626219e6</td><td>1.626219e6</td><td>1.626219e6</td><td>1.626219e6</td><td>1.626219e6</td><td>1.626219e6</td><td>1.626219e6</td><td>1.626219e6</td><td>1.626219e6</td><td>1.626219e6</td><td>1.626219e6</td><td>1.626219e6</td><td>1.626219e6</td><td>1.626219e6</td><td>1.626219e6</td><td>1.626219e6</td></tr><tr><td>&quot;null_count&quot;</td><td>&quot;0&quot;</td><td>&quot;0&quot;</td><td>0.0</td><td>0.0</td><td>&quot;0&quot;</td><td>&quot;0&quot;</td><td>&quot;0&quot;</td><td>&quot;0&quot;</td><td>&quot;0&quot;</td><td>&quot;0&quot;</td><td>&quot;1536855&quot;</td><td>&quot;1623051&quot;</td><td>1.49239e6</td><td>0.0</td><td>0.0</td><td>161558.0</td><td>1219.0</td><td>1219.0</td><td>1219.0</td><td>1219.0</td><td>1219.0</td><td>1219.0</td><td>1219.0</td><td>1219.0</td><td>1219.0</td><td>1219.0</td><td>1219.0</td><td>1219.0</td><td>1219.0</td><td>1219.0</td><td>1219.0</td><td>1219.0</td><td>1219.0</td><td>1219.0</td><td>1219.0</td></tr><tr><td>&quot;mean&quot;</td><td>null</td><td>null</td><td>271090.917112</td><td>2.5418e7</td><td>null</td><td>null</td><td>null</td><td>null</td><td>null</td><td>null</td><td>null</td><td>null</td><td>2.388506</td><td>0.499677</td><td>0.500521</td><td>21.788018</td><td>9.196751</td><td>1.959941</td><td>0.368588</td><td>0.58275</td><td>7.322193</td><td>3.493389</td><td>0.365418</td><td>1.205162</td><td>0.425691</td><td>0.11536</td><td>2.369202</td><td>1.784274</td><td>0.422732</td><td>2.173327</td><td>0.852265</td><td>3.778062</td><td>1.977855</td><td>1.033738</td><td>-0.000122</td></tr><tr><td>&quot;std&quot;</td><td>null</td><td>null</td><td>4.6448e6</td><td>6.5117e6</td><td>null</td><td>null</td><td>null</td><td>null</td><td>null</td><td>null</td><td>null</td><td>null</td><td>2.04062</td><td>0.5</td><td>0.5</td><td>12.784011</td><td>8.519971</td><td>2.545673</td><td>0.83322</td><td>0.959785</td><td>6.359486</td><td>3.309787</td><td>0.271621</td><td>2.156493</td><td>0.97711</td><td>0.245309</td><td>3.052978</td><td>2.451318</td><td>0.425368</td><td>2.677538</td><td>1.38777</td><td>3.938919</td><td>1.655834</td><td>1.403344</td><td>7.38294</td></tr><tr><td>&quot;min&quot;</td><td>&quot;A.C.&quot;</td><td>&quot;Abdelnaby&quot;</td><td>2.0</td><td>1.0300001e7</td><td>&quot;1946-11-26 19:00:00&quot;</td><td>&quot;Atlanta&quot;</td><td>&quot;76ers&quot;</td><td>&quot;Atlanta&quot;</td><td>&quot;76ers&quot;</td><td>&quot;NBA Cup&quot;</td><td>&quot;East - &quot;</td><td>&quot;Championship&quot;</td><td>0.0</td><td>0.0</td><td>0.0</td><td>-5.0</td><td>0.0</td><td>0.0</td><td>0.0</td><td>0.0</td><td>0.0</td><td>0.0</td><td>0.0</td><td>0.0</td><td>0.0</td><td>0.0</td><td>0.0</td><td>0.0</td><td>0.0</td><td>0.0</td><td>0.0</td><td>0.0</td><td>0.0</td><td>0.0</td><td>-58.0</td></tr><tr><td>&quot;25%&quot;</td><td>null</td><td>null</td><td>1734.0</td><td>2.1200258e7</td><td>null</td><td>null</td><td>null</td><td>null</td><td>null</td><td>null</td><td>null</td><td>null</td><td>0.0</td><td>0.0</td><td>0.0</td><td>12.0</td><td>2.0</td><td>0.0</td><td>0.0</td><td>0.0</td><td>2.0</td><td>1.0</td><td>0.0</td><td>0.0</td><td>0.0</td><td>0.0</td><td>0.0</td><td>0.0</td><td>0.0</td><td>0.0</td><td>0.0</td><td>1.0</td><td>0.0</td><td>0.0</td><td>0.0</td></tr><tr><td>&quot;50%&quot;</td><td>null</td><td>null</td><td>77065.0</td><td>2.5100246e7</td><td>null</td><td>null</td><td>null</td><td>null</td><td>null</td><td>null</td><td>null</td><td>null</td><td>2.0</td><td>0.0</td><td>1.0</td><td>22.0</td><td>7.0</td><td>1.0</td><td>0.0</td><td>0.0</td><td>6.0</td><td>3.0</td><td>0.4</td><td>0.0</td><td>0.0</td><td>0.0</td><td>2.0</td><td>1.0</td><td>0.5</td><td>1.0</td><td>0.0</td><td>3.0</td><td>2.0</td><td>0.0</td><td>0.0</td></tr><tr><td>&quot;75%&quot;</td><td>null</td><td>null</td><td>201588.0</td><td>2.8600725e7</td><td>null</td><td>null</td><td>null</td><td>null</td><td>null</td><td>null</td><td>null</td><td>null</td><td>4.0</td><td>1.0</td><td>1.0</td><td>32.0</td><td>14.0</td><td>3.0</td><td>0.0</td><td>1.0</td><td>11.0</td><td>5.0</td><td>0.538</td><td>2.0</td><td>0.0</td><td>0.0</td><td>4.0</td><td>3.0</td><td>0.856</td><td>3.0</td><td>1.0</td><td>6.0</td><td>3.0</td><td>2.0</td><td>0.0</td></tr><tr><td>&quot;max&quot;</td><td>&quot;ga&quot;</td><td>&quot;de Paula&quot;</td><td>1.9629e9</td><td>6.2400001e7</td><td>&quot;2025-06-22 20:00:00&quot;</td><td>&quot;Washington&quot;</td><td>&quot;Zephyrs&quot;</td><td>&quot;Washington&quot;</td><td>&quot;Zephyrs&quot;</td><td>&quot;Regular Season&quot;</td><td>&quot;West Play-In&quot;</td><td>&quot;West Semifinal&quot;</td><td>7.0</td><td>1.0</td><td>1.0</td><td>96.0</td><td>100.0</td><td>30.0</td><td>17.0</td><td>11.0</td><td>63.0</td><td>36.0</td><td>9.0</td><td>24.0</td><td>14.0</td><td>1.0</td><td>39.0</td><td>30.0</td><td>11.0</td><td>29.0</td><td>21.0</td><td>55.0</td><td>23.0</td><td>14.0</td><td>57.0</td></tr></tbody></table></div>"
            ],
            "text/plain": [
              "shape: (9, 36)\n",
              "┌───────────┬───────────┬───────────┬───────────┬───┬───────────┬───────────┬───────────┬──────────┐\n",
              "│ statistic ┆ firstName ┆ lastName  ┆ personId  ┆ … ┆ reboundsT ┆ foulsPers ┆ turnovers ┆ plusMinu │\n",
              "│ ---       ┆ ---       ┆ ---       ┆ ---       ┆   ┆ otal      ┆ onal      ┆ ---       ┆ sPoints  │\n",
              "│ str       ┆ str       ┆ str       ┆ f64       ┆   ┆ ---       ┆ ---       ┆ f64       ┆ ---      │\n",
              "│           ┆           ┆           ┆           ┆   ┆ f64       ┆ f64       ┆           ┆ f64      │\n",
              "╞═══════════╪═══════════╪═══════════╪═══════════╪═══╪═══════════╪═══════════╪═══════════╪══════════╡\n",
              "│ count     ┆ 1627438   ┆ 1627438   ┆ 1.627438e ┆ … ┆ 1.626219e ┆ 1.626219e ┆ 1.626219e ┆ 1.626219 │\n",
              "│           ┆           ┆           ┆ 6         ┆   ┆ 6         ┆ 6         ┆ 6         ┆ e6       │\n",
              "│ null_coun ┆ 0         ┆ 0         ┆ 0.0       ┆ … ┆ 1219.0    ┆ 1219.0    ┆ 1219.0    ┆ 1219.0   │\n",
              "│ t         ┆           ┆           ┆           ┆   ┆           ┆           ┆           ┆          │\n",
              "│ mean      ┆ null      ┆ null      ┆ 271090.91 ┆ … ┆ 3.778062  ┆ 1.977855  ┆ 1.033738  ┆ -0.00012 │\n",
              "│           ┆           ┆           ┆ 7112      ┆   ┆           ┆           ┆           ┆ 2        │\n",
              "│ std       ┆ null      ┆ null      ┆ 4.6448e6  ┆ … ┆ 3.938919  ┆ 1.655834  ┆ 1.403344  ┆ 7.38294  │\n",
              "│ min       ┆ A.C.      ┆ Abdelnaby ┆ 2.0       ┆ … ┆ 0.0       ┆ 0.0       ┆ 0.0       ┆ -58.0    │\n",
              "│ 25%       ┆ null      ┆ null      ┆ 1734.0    ┆ … ┆ 1.0       ┆ 0.0       ┆ 0.0       ┆ 0.0      │\n",
              "│ 50%       ┆ null      ┆ null      ┆ 77065.0   ┆ … ┆ 3.0       ┆ 2.0       ┆ 0.0       ┆ 0.0      │\n",
              "│ 75%       ┆ null      ┆ null      ┆ 201588.0  ┆ … ┆ 6.0       ┆ 3.0       ┆ 2.0       ┆ 0.0      │\n",
              "│ max       ┆ ga        ┆ de Paula  ┆ 1.9629e9  ┆ … ┆ 55.0      ┆ 23.0      ┆ 14.0      ┆ 57.0     │\n",
              "└───────────┴───────────┴───────────┴───────────┴───┴───────────┴───────────┴───────────┴──────────┘"
            ]
          },
          "execution_count": 7,
          "metadata": {},
          "output_type": "execute_result"
        }
      ],
      "source": [
        "df_players_stats.describe()"
      ]
    }
  ],
  "metadata": {
    "colab": {
      "provenance": []
    },
    "kernelspec": {
      "display_name": "polarsnba",
      "language": "python",
      "name": "python3"
    },
    "language_info": {
      "codemirror_mode": {
        "name": "ipython",
        "version": 3
      },
      "file_extension": ".py",
      "mimetype": "text/x-python",
      "name": "python",
      "nbconvert_exporter": "python",
      "pygments_lexer": "ipython3",
      "version": "3.12.3"
    }
  },
  "nbformat": 4,
  "nbformat_minor": 0
}
