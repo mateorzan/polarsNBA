{
  "cells": [
    {
      "cell_type": "code",
      "execution_count": 1,
      "metadata": {
        "colab": {
          "base_uri": "https://localhost:8080/"
        },
        "id": "v5QrZnVNa8LX",
        "outputId": "38c193b7-51cd-42f6-c52f-02b017a1097e"
      },
      "outputs": [],
      "source": [
        "import polars as pl"
      ]
    },
    {
      "cell_type": "markdown",
      "metadata": {},
      "source": [
        "# DATASET SACADO DE KAGGLE (https://www.kaggle.com/datasets/eoinamoore/historical-nba-data-and-player-box-scores)"
      ]
    },
    {
      "cell_type": "markdown",
      "metadata": {},
      "source": [
        "## LIMPIEZA TEAM STATS"
      ]
    },
    {
      "cell_type": "code",
      "execution_count": 2,
      "metadata": {
        "id": "lwsAnhcDboYz"
      },
      "outputs": [],
      "source": [
        "df_team_stats = pl.read_csv('/home/uvuser/polarsNBA/archive/raw/TeamStatistics.csv')"
      ]
    },
    {
      "cell_type": "code",
      "execution_count": 3,
      "metadata": {
        "colab": {
          "base_uri": "https://localhost:8080/",
          "height": 810
        },
        "id": "cghRObUBcPwG",
        "outputId": "bd7357d1-d637-4f7e-9665-af4c956888fb"
      },
      "outputs": [
        {
          "data": {
            "text/html": [
              "<div><style>\n",
              ".dataframe > thead > tr,\n",
              ".dataframe > tbody > tr {\n",
              "  text-align: right;\n",
              "  white-space: pre-wrap;\n",
              "}\n",
              "</style>\n",
              "<small>shape: (143_758, 48)</small><table border=\"1\" class=\"dataframe\"><thead><tr><th>gameId</th><th>gameDate</th><th>teamCity</th><th>teamName</th><th>teamId</th><th>opponentTeamCity</th><th>opponentTeamName</th><th>opponentTeamId</th><th>home</th><th>win</th><th>teamScore</th><th>opponentScore</th><th>assists</th><th>blocks</th><th>steals</th><th>fieldGoalsAttempted</th><th>fieldGoalsMade</th><th>fieldGoalsPercentage</th><th>threePointersAttempted</th><th>threePointersMade</th><th>threePointersPercentage</th><th>freeThrowsAttempted</th><th>freeThrowsMade</th><th>freeThrowsPercentage</th><th>reboundsDefensive</th><th>reboundsOffensive</th><th>reboundsTotal</th><th>foulsPersonal</th><th>turnovers</th><th>plusMinusPoints</th><th>numMinutes</th><th>q1Points</th><th>q2Points</th><th>q3Points</th><th>q4Points</th><th>benchPoints</th><th>biggestLead</th><th>biggestScoringRun</th><th>leadChanges</th><th>pointsFastBreak</th><th>pointsFromTurnovers</th><th>pointsInThePaint</th><th>pointsSecondChance</th><th>timesTied</th><th>timeoutsRemaining</th><th>seasonWins</th><th>seasonLosses</th><th>coachId</th></tr><tr><td>i64</td><td>str</td><td>str</td><td>str</td><td>i64</td><td>str</td><td>str</td><td>i64</td><td>i64</td><td>i64</td><td>i64</td><td>i64</td><td>f64</td><td>f64</td><td>f64</td><td>f64</td><td>f64</td><td>f64</td><td>f64</td><td>f64</td><td>f64</td><td>f64</td><td>f64</td><td>f64</td><td>f64</td><td>f64</td><td>f64</td><td>f64</td><td>f64</td><td>f64</td><td>f64</td><td>f64</td><td>f64</td><td>f64</td><td>f64</td><td>f64</td><td>f64</td><td>f64</td><td>f64</td><td>f64</td><td>f64</td><td>f64</td><td>f64</td><td>f64</td><td>f64</td><td>f64</td><td>f64</td><td>str</td></tr></thead><tbody><tr><td>42400407</td><td>&quot;2025-06-22 20:00:00&quot;</td><td>&quot;Indiana&quot;</td><td>&quot;Pacers&quot;</td><td>1610612754</td><td>&quot;Oklahoma City&quot;</td><td>&quot;Thunder&quot;</td><td>1610612760</td><td>0</td><td>0</td><td>91</td><td>103</td><td>17.0</td><td>4.0</td><td>6.0</td><td>70.0</td><td>29.0</td><td>0.414</td><td>28.0</td><td>11.0</td><td>0.393</td><td>29.0</td><td>22.0</td><td>0.759</td><td>33.0</td><td>12.0</td><td>45.0</td><td>24.0</td><td>21.0</td><td>-12.0</td><td>240.0</td><td>22.0</td><td>26.0</td><td>20.0</td><td>23.0</td><td>42.0</td><td>5.0</td><td>7.0</td><td>11.0</td><td>7.0</td><td>10.0</td><td>26.0</td><td>15.0</td><td>10.0</td><td>0.0</td><td>3.0</td><td>4.0</td><td>null</td></tr><tr><td>42400407</td><td>&quot;2025-06-22 20:00:00&quot;</td><td>&quot;Oklahoma City&quot;</td><td>&quot;Thunder&quot;</td><td>1610612760</td><td>&quot;Indiana&quot;</td><td>&quot;Pacers&quot;</td><td>1610612754</td><td>1</td><td>1</td><td>103</td><td>91</td><td>20.0</td><td>8.0</td><td>14.0</td><td>87.0</td><td>35.0</td><td>0.402</td><td>40.0</td><td>11.0</td><td>0.275</td><td>31.0</td><td>22.0</td><td>0.71</td><td>27.0</td><td>13.0</td><td>40.0</td><td>23.0</td><td>7.0</td><td>12.0</td><td>240.0</td><td>25.0</td><td>22.0</td><td>34.0</td><td>22.0</td><td>20.0</td><td>22.0</td><td>13.0</td><td>11.0</td><td>9.0</td><td>32.0</td><td>40.0</td><td>22.0</td><td>10.0</td><td>0.0</td><td>4.0</td><td>3.0</td><td>null</td></tr><tr><td>42400406</td><td>&quot;2025-06-19 20:30:00&quot;</td><td>&quot;Indiana&quot;</td><td>&quot;Pacers&quot;</td><td>1610612754</td><td>&quot;Oklahoma City&quot;</td><td>&quot;Thunder&quot;</td><td>1610612760</td><td>1</td><td>1</td><td>108</td><td>91</td><td>23.0</td><td>5.0</td><td>16.0</td><td>92.0</td><td>38.0</td><td>0.413</td><td>42.0</td><td>15.0</td><td>0.357</td><td>25.0</td><td>17.0</td><td>0.68</td><td>35.0</td><td>11.0</td><td>46.0</td><td>17.0</td><td>10.0</td><td>17.0</td><td>240.0</td><td>28.0</td><td>36.0</td><td>26.0</td><td>18.0</td><td>48.0</td><td>31.0</td><td>12.0</td><td>1.0</td><td>22.0</td><td>19.0</td><td>30.0</td><td>14.0</td><td>1.0</td><td>1.0</td><td>3.0</td><td>3.0</td><td>null</td></tr><tr><td>42400406</td><td>&quot;2025-06-19 20:30:00&quot;</td><td>&quot;Oklahoma City&quot;</td><td>&quot;Thunder&quot;</td><td>1610612760</td><td>&quot;Indiana&quot;</td><td>&quot;Pacers&quot;</td><td>1610612754</td><td>0</td><td>0</td><td>91</td><td>108</td><td>14.0</td><td>4.0</td><td>4.0</td><td>74.0</td><td>31.0</td><td>0.419</td><td>30.0</td><td>8.0</td><td>0.267</td><td>26.0</td><td>21.0</td><td>0.808</td><td>37.0</td><td>4.0</td><td>41.0</td><td>20.0</td><td>21.0</td><td>-17.0</td><td>240.0</td><td>25.0</td><td>17.0</td><td>18.0</td><td>31.0</td><td>37.0</td><td>8.0</td><td>8.0</td><td>1.0</td><td>11.0</td><td>13.0</td><td>40.0</td><td>6.0</td><td>1.0</td><td>1.0</td><td>3.0</td><td>3.0</td><td>null</td></tr><tr><td>42400405</td><td>&quot;2025-06-16 20:30:00&quot;</td><td>&quot;Indiana&quot;</td><td>&quot;Pacers&quot;</td><td>1610612754</td><td>&quot;Oklahoma City&quot;</td><td>&quot;Thunder&quot;</td><td>1610612760</td><td>0</td><td>0</td><td>109</td><td>120</td><td>23.0</td><td>4.0</td><td>9.0</td><td>82.0</td><td>37.0</td><td>0.451</td><td>30.0</td><td>11.0</td><td>0.367</td><td>30.0</td><td>24.0</td><td>0.8</td><td>32.0</td><td>18.0</td><td>50.0</td><td>25.0</td><td>22.0</td><td>-11.0</td><td>240.0</td><td>22.0</td><td>23.0</td><td>34.0</td><td>30.0</td><td>43.0</td><td>3.0</td><td>6.0</td><td>6.0</td><td>13.0</td><td>9.0</td><td>48.0</td><td>21.0</td><td>2.0</td><td>0.0</td><td>2.0</td><td>3.0</td><td>null</td></tr><tr><td>&hellip;</td><td>&hellip;</td><td>&hellip;</td><td>&hellip;</td><td>&hellip;</td><td>&hellip;</td><td>&hellip;</td><td>&hellip;</td><td>&hellip;</td><td>&hellip;</td><td>&hellip;</td><td>&hellip;</td><td>&hellip;</td><td>&hellip;</td><td>&hellip;</td><td>&hellip;</td><td>&hellip;</td><td>&hellip;</td><td>&hellip;</td><td>&hellip;</td><td>&hellip;</td><td>&hellip;</td><td>&hellip;</td><td>&hellip;</td><td>&hellip;</td><td>&hellip;</td><td>&hellip;</td><td>&hellip;</td><td>&hellip;</td><td>&hellip;</td><td>&hellip;</td><td>&hellip;</td><td>&hellip;</td><td>&hellip;</td><td>&hellip;</td><td>&hellip;</td><td>&hellip;</td><td>&hellip;</td><td>&hellip;</td><td>&hellip;</td><td>&hellip;</td><td>&hellip;</td><td>&hellip;</td><td>&hellip;</td><td>&hellip;</td><td>&hellip;</td><td>&hellip;</td><td>&hellip;</td></tr><tr><td>24600076</td><td>&quot;1946-12-05 19:00:00&quot;</td><td>&quot;New York&quot;</td><td>&quot;Knicks&quot;</td><td>1610612752</td><td>&quot;Philadelphia&quot;</td><td>&quot;Warriors&quot;</td><td>1610612744</td><td>0</td><td>0</td><td>51</td><td>62</td><td>null</td><td>null</td><td>null</td><td>null</td><td>21.0</td><td>null</td><td>null</td><td>null</td><td>null</td><td>null</td><td>9.0</td><td>null</td><td>null</td><td>null</td><td>null</td><td>null</td><td>null</td><td>-11.0</td><td>0.0</td><td>null</td><td>null</td><td>null</td><td>null</td><td>null</td><td>null</td><td>null</td><td>null</td><td>null</td><td>null</td><td>null</td><td>null</td><td>null</td><td>null</td><td>null</td><td>null</td><td>null</td></tr><tr><td>24600063</td><td>&quot;1946-11-30 19:00:00&quot;</td><td>&quot;Philadelphia&quot;</td><td>&quot;Warriors&quot;</td><td>1610612744</td><td>&quot;New York&quot;</td><td>&quot;Knicks&quot;</td><td>1610612752</td><td>0</td><td>0</td><td>60</td><td>64</td><td>null</td><td>null</td><td>null</td><td>null</td><td>22.0</td><td>null</td><td>null</td><td>null</td><td>null</td><td>null</td><td>16.0</td><td>null</td><td>null</td><td>null</td><td>null</td><td>null</td><td>null</td><td>-4.0</td><td>0.0</td><td>null</td><td>null</td><td>null</td><td>null</td><td>null</td><td>null</td><td>null</td><td>null</td><td>null</td><td>null</td><td>null</td><td>null</td><td>null</td><td>null</td><td>null</td><td>null</td><td>null</td></tr><tr><td>24600063</td><td>&quot;1946-11-30 19:00:00&quot;</td><td>&quot;New York&quot;</td><td>&quot;Knicks&quot;</td><td>1610612752</td><td>&quot;Philadelphia&quot;</td><td>&quot;Warriors&quot;</td><td>1610612744</td><td>1</td><td>1</td><td>64</td><td>60</td><td>null</td><td>null</td><td>null</td><td>null</td><td>26.0</td><td>null</td><td>null</td><td>null</td><td>null</td><td>null</td><td>12.0</td><td>null</td><td>null</td><td>null</td><td>null</td><td>null</td><td>null</td><td>4.0</td><td>0.0</td><td>null</td><td>null</td><td>null</td><td>null</td><td>null</td><td>null</td><td>null</td><td>null</td><td>null</td><td>null</td><td>null</td><td>null</td><td>null</td><td>null</td><td>null</td><td>null</td><td>null</td></tr><tr><td>24600052</td><td>&quot;1946-11-26 19:00:00&quot;</td><td>&quot;Boston&quot;</td><td>&quot;Celtics&quot;</td><td>1610612738</td><td>&quot;Philadelphia&quot;</td><td>&quot;Warriors&quot;</td><td>1610612744</td><td>0</td><td>0</td><td>54</td><td>66</td><td>null</td><td>null</td><td>null</td><td>null</td><td>20.0</td><td>null</td><td>null</td><td>null</td><td>null</td><td>null</td><td>14.0</td><td>null</td><td>null</td><td>null</td><td>null</td><td>null</td><td>null</td><td>-12.0</td><td>0.0</td><td>null</td><td>null</td><td>null</td><td>null</td><td>null</td><td>null</td><td>null</td><td>null</td><td>null</td><td>null</td><td>null</td><td>null</td><td>null</td><td>null</td><td>null</td><td>null</td><td>null</td></tr><tr><td>24600052</td><td>&quot;1946-11-26 19:00:00&quot;</td><td>&quot;Philadelphia&quot;</td><td>&quot;Warriors&quot;</td><td>1610612744</td><td>&quot;Boston&quot;</td><td>&quot;Celtics&quot;</td><td>1610612738</td><td>1</td><td>1</td><td>66</td><td>54</td><td>null</td><td>null</td><td>null</td><td>null</td><td>26.0</td><td>null</td><td>null</td><td>null</td><td>null</td><td>null</td><td>14.0</td><td>null</td><td>null</td><td>null</td><td>null</td><td>null</td><td>null</td><td>12.0</td><td>0.0</td><td>null</td><td>null</td><td>null</td><td>null</td><td>null</td><td>null</td><td>null</td><td>null</td><td>null</td><td>null</td><td>null</td><td>null</td><td>null</td><td>null</td><td>null</td><td>null</td><td>null</td></tr></tbody></table></div>"
            ],
            "text/plain": [
              "shape: (143_758, 48)\n",
              "┌──────────┬────────────┬────────────┬──────────┬───┬────────────┬───────────┬───────────┬─────────┐\n",
              "│ gameId   ┆ gameDate   ┆ teamCity   ┆ teamName ┆ … ┆ timeoutsRe ┆ seasonWin ┆ seasonLos ┆ coachId │\n",
              "│ ---      ┆ ---        ┆ ---        ┆ ---      ┆   ┆ maining    ┆ s         ┆ ses       ┆ ---     │\n",
              "│ i64      ┆ str        ┆ str        ┆ str      ┆   ┆ ---        ┆ ---       ┆ ---       ┆ str     │\n",
              "│          ┆            ┆            ┆          ┆   ┆ f64        ┆ f64       ┆ f64       ┆         │\n",
              "╞══════════╪════════════╪════════════╪══════════╪═══╪════════════╪═══════════╪═══════════╪═════════╡\n",
              "│ 42400407 ┆ 2025-06-22 ┆ Indiana    ┆ Pacers   ┆ … ┆ 0.0        ┆ 3.0       ┆ 4.0       ┆ null    │\n",
              "│          ┆ 20:00:00   ┆            ┆          ┆   ┆            ┆           ┆           ┆         │\n",
              "│ 42400407 ┆ 2025-06-22 ┆ Oklahoma   ┆ Thunder  ┆ … ┆ 0.0        ┆ 4.0       ┆ 3.0       ┆ null    │\n",
              "│          ┆ 20:00:00   ┆ City       ┆          ┆   ┆            ┆           ┆           ┆         │\n",
              "│ 42400406 ┆ 2025-06-19 ┆ Indiana    ┆ Pacers   ┆ … ┆ 1.0        ┆ 3.0       ┆ 3.0       ┆ null    │\n",
              "│          ┆ 20:30:00   ┆            ┆          ┆   ┆            ┆           ┆           ┆         │\n",
              "│ 42400406 ┆ 2025-06-19 ┆ Oklahoma   ┆ Thunder  ┆ … ┆ 1.0        ┆ 3.0       ┆ 3.0       ┆ null    │\n",
              "│          ┆ 20:30:00   ┆ City       ┆          ┆   ┆            ┆           ┆           ┆         │\n",
              "│ 42400405 ┆ 2025-06-16 ┆ Indiana    ┆ Pacers   ┆ … ┆ 0.0        ┆ 2.0       ┆ 3.0       ┆ null    │\n",
              "│          ┆ 20:30:00   ┆            ┆          ┆   ┆            ┆           ┆           ┆         │\n",
              "│ …        ┆ …          ┆ …          ┆ …        ┆ … ┆ …          ┆ …         ┆ …         ┆ …       │\n",
              "│ 24600076 ┆ 1946-12-05 ┆ New York   ┆ Knicks   ┆ … ┆ null       ┆ null      ┆ null      ┆ null    │\n",
              "│          ┆ 19:00:00   ┆            ┆          ┆   ┆            ┆           ┆           ┆         │\n",
              "│ 24600063 ┆ 1946-11-30 ┆ Philadelph ┆ Warriors ┆ … ┆ null       ┆ null      ┆ null      ┆ null    │\n",
              "│          ┆ 19:00:00   ┆ ia         ┆          ┆   ┆            ┆           ┆           ┆         │\n",
              "│ 24600063 ┆ 1946-11-30 ┆ New York   ┆ Knicks   ┆ … ┆ null       ┆ null      ┆ null      ┆ null    │\n",
              "│          ┆ 19:00:00   ┆            ┆          ┆   ┆            ┆           ┆           ┆         │\n",
              "│ 24600052 ┆ 1946-11-26 ┆ Boston     ┆ Celtics  ┆ … ┆ null       ┆ null      ┆ null      ┆ null    │\n",
              "│          ┆ 19:00:00   ┆            ┆          ┆   ┆            ┆           ┆           ┆         │\n",
              "│ 24600052 ┆ 1946-11-26 ┆ Philadelph ┆ Warriors ┆ … ┆ null       ┆ null      ┆ null      ┆ null    │\n",
              "│          ┆ 19:00:00   ┆ ia         ┆          ┆   ┆            ┆           ┆           ┆         │\n",
              "└──────────┴────────────┴────────────┴──────────┴───┴────────────┴───────────┴───────────┴─────────┘"
            ]
          },
          "execution_count": 3,
          "metadata": {},
          "output_type": "execute_result"
        }
      ],
      "source": [
        "df_team_stats"
      ]
    },
    {
      "cell_type": "code",
      "execution_count": 4,
      "metadata": {
        "colab": {
          "base_uri": "https://localhost:8080/"
        },
        "id": "snsKFdWSdDlQ",
        "outputId": "6929a45d-be8a-4912-fbf3-d46442aaa95a"
      },
      "outputs": [
        {
          "name": "stdout",
          "output_type": "stream",
          "text": [
            "shape: (1, 48)\n",
            "┌───────────┬───────────┬───────────┬───────────┬───┬───────────┬───────────┬───────────┬──────────┐\n",
            "│ gameId_nu ┆ gameDate_ ┆ teamCity_ ┆ teamName_ ┆ … ┆ timeoutsR ┆ seasonWin ┆ seasonLos ┆ coachId_ │\n",
            "│ los       ┆ nulos     ┆ nulos     ┆ nulos     ┆   ┆ emaining_ ┆ s_nulos   ┆ ses_nulos ┆ nulos    │\n",
            "│ ---       ┆ ---       ┆ ---       ┆ ---       ┆   ┆ nulos     ┆ ---       ┆ ---       ┆ ---      │\n",
            "│ u32       ┆ u32       ┆ u32       ┆ u32       ┆   ┆ ---       ┆ u32       ┆ u32       ┆ u32      │\n",
            "│           ┆           ┆           ┆           ┆   ┆ u32       ┆           ┆           ┆          │\n",
            "╞═══════════╪═══════════╪═══════════╪═══════════╪═══╪═══════════╪═══════════╪═══════════╪══════════╡\n",
            "│ 0         ┆ 0         ┆ 0         ┆ 0         ┆ … ┆ 141004    ┆ 141004    ┆ 141004    ┆ 143758   │\n",
            "└───────────┴───────────┴───────────┴───────────┴───┴───────────┴───────────┴───────────┴──────────┘\n"
          ]
        }
      ],
      "source": [
        "# Contar los nulos por columna\n",
        "nulos_por_columna = df_team_stats.select([\n",
        "    pl.col(col).is_null().sum().alias(f\"{col}_nulos\")\n",
        "    for col in df_team_stats.columns\n",
        "])\n",
        "\n",
        "print(nulos_por_columna)"
      ]
    },
    {
      "cell_type": "code",
      "execution_count": 5,
      "metadata": {
        "colab": {
          "base_uri": "https://localhost:8080/"
        },
        "id": "VOe29ZV-eZzp",
        "outputId": "e3638ac8-b596-454e-813a-8d2a5cb46fd0"
      },
      "outputs": [
        {
          "name": "stdout",
          "output_type": "stream",
          "text": [
            "shape: (0, 48)\n",
            "┌────────┬──────────┬──────────┬──────────┬───┬──────────────┬────────────┬──────────────┬─────────┐\n",
            "│ gameId ┆ gameDate ┆ teamCity ┆ teamName ┆ … ┆ timeoutsRema ┆ seasonWins ┆ seasonLosses ┆ coachId │\n",
            "│ ---    ┆ ---      ┆ ---      ┆ ---      ┆   ┆ ining        ┆ ---        ┆ ---          ┆ ---     │\n",
            "│ i64    ┆ str      ┆ str      ┆ str      ┆   ┆ ---          ┆ f64        ┆ f64          ┆ str     │\n",
            "│        ┆          ┆          ┆          ┆   ┆ f64          ┆            ┆              ┆         │\n",
            "╞════════╪══════════╪══════════╪══════════╪═══╪══════════════╪════════════╪══════════════╪═════════╡\n",
            "└────────┴──────────┴──────────┴──────────┴───┴──────────────┴────────────┴──────────────┴─────────┘\n"
          ]
        }
      ],
      "source": [
        "duplicados = df_team_stats.filter(df_team_stats.is_duplicated())\n",
        "print(duplicados)"
      ]
    },
    {
      "cell_type": "code",
      "execution_count": 6,
      "metadata": {
        "colab": {
          "base_uri": "https://localhost:8080/"
        },
        "id": "lLGg3b1efPUY",
        "outputId": "2307566d-1c27-4556-d143-09f0fb3f4eff"
      },
      "outputs": [
        {
          "name": "stdout",
          "output_type": "stream",
          "text": [
            "Número de filas duplicadas: 0\n"
          ]
        }
      ],
      "source": [
        "num_duplicados = df_team_stats.is_duplicated().sum()\n",
        "print(f\"Número de filas duplicadas: {num_duplicados}\")"
      ]
    },
    {
      "cell_type": "code",
      "execution_count": 7,
      "metadata": {
        "colab": {
          "base_uri": "https://localhost:8080/",
          "height": 470
        },
        "id": "QqQmPAFjfmXu",
        "outputId": "2c81435e-44d8-4a36-9e32-46032d79e746"
      },
      "outputs": [
        {
          "data": {
            "text/html": [
              "<div><style>\n",
              ".dataframe > thead > tr,\n",
              ".dataframe > tbody > tr {\n",
              "  text-align: right;\n",
              "  white-space: pre-wrap;\n",
              "}\n",
              "</style>\n",
              "<small>shape: (9, 49)</small><table border=\"1\" class=\"dataframe\"><thead><tr><th>statistic</th><th>gameId</th><th>gameDate</th><th>teamCity</th><th>teamName</th><th>teamId</th><th>opponentTeamCity</th><th>opponentTeamName</th><th>opponentTeamId</th><th>home</th><th>win</th><th>teamScore</th><th>opponentScore</th><th>assists</th><th>blocks</th><th>steals</th><th>fieldGoalsAttempted</th><th>fieldGoalsMade</th><th>fieldGoalsPercentage</th><th>threePointersAttempted</th><th>threePointersMade</th><th>threePointersPercentage</th><th>freeThrowsAttempted</th><th>freeThrowsMade</th><th>freeThrowsPercentage</th><th>reboundsDefensive</th><th>reboundsOffensive</th><th>reboundsTotal</th><th>foulsPersonal</th><th>turnovers</th><th>plusMinusPoints</th><th>numMinutes</th><th>q1Points</th><th>q2Points</th><th>q3Points</th><th>q4Points</th><th>benchPoints</th><th>biggestLead</th><th>biggestScoringRun</th><th>leadChanges</th><th>pointsFastBreak</th><th>pointsFromTurnovers</th><th>pointsInThePaint</th><th>pointsSecondChance</th><th>timesTied</th><th>timeoutsRemaining</th><th>seasonWins</th><th>seasonLosses</th><th>coachId</th></tr><tr><td>str</td><td>f64</td><td>str</td><td>str</td><td>str</td><td>f64</td><td>str</td><td>str</td><td>f64</td><td>f64</td><td>f64</td><td>f64</td><td>f64</td><td>f64</td><td>f64</td><td>f64</td><td>f64</td><td>f64</td><td>f64</td><td>f64</td><td>f64</td><td>f64</td><td>f64</td><td>f64</td><td>f64</td><td>f64</td><td>f64</td><td>f64</td><td>f64</td><td>f64</td><td>f64</td><td>f64</td><td>f64</td><td>f64</td><td>f64</td><td>f64</td><td>f64</td><td>f64</td><td>f64</td><td>f64</td><td>f64</td><td>f64</td><td>f64</td><td>f64</td><td>f64</td><td>f64</td><td>f64</td><td>f64</td><td>str</td></tr></thead><tbody><tr><td>&quot;count&quot;</td><td>143758.0</td><td>&quot;143758&quot;</td><td>&quot;143758&quot;</td><td>&quot;143758&quot;</td><td>143758.0</td><td>&quot;143758&quot;</td><td>&quot;143758&quot;</td><td>143758.0</td><td>143758.0</td><td>143758.0</td><td>143758.0</td><td>143758.0</td><td>108671.0</td><td>103057.0</td><td>102613.0</td><td>109452.0</td><td>143740.0</td><td>109371.0</td><td>102970.0</td><td>113902.0</td><td>102263.0</td><td>138662.0</td><td>143738.0</td><td>138656.0</td><td>102281.0</td><td>102428.0</td><td>109014.0</td><td>139766.0</td><td>102943.0</td><td>142750.0</td><td>143750.0</td><td>2750.0</td><td>2750.0</td><td>2748.0</td><td>2748.0</td><td>2754.0</td><td>2754.0</td><td>2754.0</td><td>2754.0</td><td>2754.0</td><td>2754.0</td><td>2754.0</td><td>2754.0</td><td>2754.0</td><td>2754.0</td><td>2754.0</td><td>2754.0</td><td>&quot;0&quot;</td></tr><tr><td>&quot;null_count&quot;</td><td>0.0</td><td>&quot;0&quot;</td><td>&quot;0&quot;</td><td>&quot;0&quot;</td><td>0.0</td><td>&quot;0&quot;</td><td>&quot;0&quot;</td><td>0.0</td><td>0.0</td><td>0.0</td><td>0.0</td><td>0.0</td><td>35087.0</td><td>40701.0</td><td>41145.0</td><td>34306.0</td><td>18.0</td><td>34387.0</td><td>40788.0</td><td>29856.0</td><td>41495.0</td><td>5096.0</td><td>20.0</td><td>5102.0</td><td>41477.0</td><td>41330.0</td><td>34744.0</td><td>3992.0</td><td>40815.0</td><td>1008.0</td><td>8.0</td><td>141008.0</td><td>141008.0</td><td>141010.0</td><td>141010.0</td><td>141004.0</td><td>141004.0</td><td>141004.0</td><td>141004.0</td><td>141004.0</td><td>141004.0</td><td>141004.0</td><td>141004.0</td><td>141004.0</td><td>141004.0</td><td>141004.0</td><td>141004.0</td><td>&quot;143758&quot;</td></tr><tr><td>&quot;mean&quot;</td><td>2.5832e7</td><td>null</td><td>null</td><td>null</td><td>1.6106e9</td><td>null</td><td>null</td><td>1.6106e9</td><td>0.5</td><td>0.5</td><td>104.06079</td><td>104.06079</td><td>23.1407</td><td>5.003095</td><td>7.904057</td><td>84.048715</td><td>39.526374</td><td>0.461328</td><td>18.812887</td><td>6.083502</td><td>0.342776</td><td>26.475271</td><td>20.188183</td><td>0.755276</td><td>30.946168</td><td>11.804477</td><td>42.97848</td><td>22.656855</td><td>14.896749</td><td>0.154424</td><td>226.294344</td><td>28.322909</td><td>28.280727</td><td>28.749636</td><td>27.422125</td><td>35.916122</td><td>13.123094</td><td>10.14016</td><td>6.616558</td><td>15.39724</td><td>17.457879</td><td>48.6122</td><td>14.129267</td><td>4.805374</td><td>0.460784</td><td>18.485476</td><td>18.511983</td><td>null</td></tr><tr><td>&quot;std&quot;</td><td>6.4206e6</td><td>null</td><td>null</td><td>null</td><td>8.6682</td><td>null</td><td>null</td><td>8.6682</td><td>0.500002</td><td>0.500002</td><td>14.183714</td><td>14.183714</td><td>5.626031</td><td>2.654999</td><td>3.055479</td><td>9.056151</td><td>6.405886</td><td>0.060981</td><td>11.050518</td><td>4.711897</td><td>0.14553</td><td>8.737059</td><td>7.031717</td><td>0.100468</td><td>5.631654</td><td>4.328793</td><td>7.096574</td><td>5.158146</td><td>4.21342</td><td>13.592216</td><td>59.276107</td><td>6.078403</td><td>6.042389</td><td>6.286155</td><td>6.066382</td><td>14.154839</td><td>10.140231</td><td>2.776575</td><td>5.945725</td><td>6.630386</td><td>6.814005</td><td>10.559843</td><td>5.755459</td><td>4.088189</td><td>0.499278</td><td>14.661428</td><td>14.616021</td><td>null</td></tr><tr><td>&quot;min&quot;</td><td>1.0300001e7</td><td>&quot;1946-11-26 19:00:00&quot;</td><td>&quot;Atlanta&quot;</td><td>&quot;76ers&quot;</td><td>1.6106e9</td><td>&quot;Atlanta&quot;</td><td>&quot;76ers&quot;</td><td>1.6106e9</td><td>0.0</td><td>0.0</td><td>0.0</td><td>0.0</td><td>0.0</td><td>0.0</td><td>0.0</td><td>0.0</td><td>4.0</td><td>0.14</td><td>0.0</td><td>0.0</td><td>0.0</td><td>0.0</td><td>0.0</td><td>0.0</td><td>3.0</td><td>0.0</td><td>0.0</td><td>0.0</td><td>0.0</td><td>-73.0</td><td>0.0</td><td>8.0</td><td>10.0</td><td>8.0</td><td>8.0</td><td>0.0</td><td>0.0</td><td>0.0</td><td>0.0</td><td>0.0</td><td>0.0</td><td>0.0</td><td>0.0</td><td>0.0</td><td>0.0</td><td>0.0</td><td>0.0</td><td>null</td></tr><tr><td>&quot;25%&quot;</td><td>2.1300583e7</td><td>null</td><td>null</td><td>null</td><td>1.6106e9</td><td>null</td><td>null</td><td>1.6106e9</td><td>0.0</td><td>0.0</td><td>94.0</td><td>94.0</td><td>19.0</td><td>3.0</td><td>6.0</td><td>78.0</td><td>35.0</td><td>0.421</td><td>10.0</td><td>2.0</td><td>0.262</td><td>20.0</td><td>15.0</td><td>0.692</td><td>27.0</td><td>9.0</td><td>38.0</td><td>19.0</td><td>12.0</td><td>-9.0</td><td>240.0</td><td>24.0</td><td>24.0</td><td>24.0</td><td>23.0</td><td>26.0</td><td>5.0</td><td>8.0</td><td>2.0</td><td>11.0</td><td>13.0</td><td>42.0</td><td>10.0</td><td>2.0</td><td>0.0</td><td>5.0</td><td>6.0</td><td>null</td></tr><tr><td>&quot;50%&quot;</td><td>2.6300224e7</td><td>null</td><td>null</td><td>null</td><td>1.6106e9</td><td>null</td><td>null</td><td>1.6106e9</td><td>1.0</td><td>1.0</td><td>104.0</td><td>104.0</td><td>23.0</td><td>5.0</td><td>8.0</td><td>84.0</td><td>39.0</td><td>0.46</td><td>17.0</td><td>5.0</td><td>0.344</td><td>26.0</td><td>20.0</td><td>0.76</td><td>31.0</td><td>11.0</td><td>43.0</td><td>22.0</td><td>15.0</td><td>1.0</td><td>240.0</td><td>28.0</td><td>28.0</td><td>29.0</td><td>27.0</td><td>35.0</td><td>11.0</td><td>10.0</td><td>5.0</td><td>15.0</td><td>17.0</td><td>48.0</td><td>14.0</td><td>4.0</td><td>0.0</td><td>16.0</td><td>16.0</td><td>null</td></tr><tr><td>&quot;75%&quot;</td><td>2.8700596e7</td><td>null</td><td>null</td><td>null</td><td>1.6106e9</td><td>null</td><td>null</td><td>1.6106e9</td><td>1.0</td><td>1.0</td><td>113.0</td><td>113.0</td><td>27.0</td><td>7.0</td><td>10.0</td><td>90.0</td><td>44.0</td><td>0.5</td><td>26.0</td><td>9.0</td><td>0.429</td><td>32.0</td><td>25.0</td><td>0.824</td><td>35.0</td><td>14.0</td><td>47.0</td><td>26.0</td><td>18.0</td><td>9.0</td><td>240.0</td><td>32.0</td><td>32.0</td><td>33.0</td><td>31.0</td><td>44.0</td><td>19.0</td><td>12.0</td><td>10.0</td><td>20.0</td><td>22.0</td><td>56.0</td><td>18.0</td><td>7.0</td><td>1.0</td><td>29.0</td><td>29.0</td><td>null</td></tr><tr><td>&quot;max&quot;</td><td>6.2400001e7</td><td>&quot;2025-06-22 20:00:00&quot;</td><td>&quot;Washington&quot;</td><td>&quot;Zephyrs&quot;</td><td>1.6106e9</td><td>&quot;Washington&quot;</td><td>&quot;Zephyrs&quot;</td><td>1.6106e9</td><td>1.0</td><td>1.0</td><td>186.0</td><td>186.0</td><td>89.0</td><td>23.0</td><td>27.0</td><td>240.0</td><td>135.0</td><td>5.125</td><td>70.0</td><td>29.0</td><td>1.0</td><td>91.0</td><td>61.0</td><td>5.25</td><td>60.0</td><td>44.0</td><td>109.0</td><td>122.0</td><td>40.0</td><td>73.0</td><td>365.0</td><td>50.0</td><td>51.0</td><td>52.0</td><td>50.0</td><td>99.0</td><td>64.0</td><td>24.0</td><td>42.0</td><td>46.0</td><td>45.0</td><td>88.0</td><td>36.0</td><td>22.0</td><td>2.0</td><td>68.0</td><td>65.0</td><td>null</td></tr></tbody></table></div>"
            ],
            "text/plain": [
              "shape: (9, 49)\n",
              "┌────────────┬───────────┬───────────┬───────────┬───┬───────────┬───────────┬───────────┬─────────┐\n",
              "│ statistic  ┆ gameId    ┆ gameDate  ┆ teamCity  ┆ … ┆ timeoutsR ┆ seasonWin ┆ seasonLos ┆ coachId │\n",
              "│ ---        ┆ ---       ┆ ---       ┆ ---       ┆   ┆ emaining  ┆ s         ┆ ses       ┆ ---     │\n",
              "│ str        ┆ f64       ┆ str       ┆ str       ┆   ┆ ---       ┆ ---       ┆ ---       ┆ str     │\n",
              "│            ┆           ┆           ┆           ┆   ┆ f64       ┆ f64       ┆ f64       ┆         │\n",
              "╞════════════╪═══════════╪═══════════╪═══════════╪═══╪═══════════╪═══════════╪═══════════╪═════════╡\n",
              "│ count      ┆ 143758.0  ┆ 143758    ┆ 143758    ┆ … ┆ 2754.0    ┆ 2754.0    ┆ 2754.0    ┆ 0       │\n",
              "│ null_count ┆ 0.0       ┆ 0         ┆ 0         ┆ … ┆ 141004.0  ┆ 141004.0  ┆ 141004.0  ┆ 143758  │\n",
              "│ mean       ┆ 2.5832e7  ┆ null      ┆ null      ┆ … ┆ 0.460784  ┆ 18.485476 ┆ 18.511983 ┆ null    │\n",
              "│ std        ┆ 6.4206e6  ┆ null      ┆ null      ┆ … ┆ 0.499278  ┆ 14.661428 ┆ 14.616021 ┆ null    │\n",
              "│ min        ┆ 1.0300001 ┆ 1946-11-2 ┆ Atlanta   ┆ … ┆ 0.0       ┆ 0.0       ┆ 0.0       ┆ null    │\n",
              "│            ┆ e7        ┆ 6         ┆           ┆   ┆           ┆           ┆           ┆         │\n",
              "│            ┆           ┆ 19:00:00  ┆           ┆   ┆           ┆           ┆           ┆         │\n",
              "│ 25%        ┆ 2.1300583 ┆ null      ┆ null      ┆ … ┆ 0.0       ┆ 5.0       ┆ 6.0       ┆ null    │\n",
              "│            ┆ e7        ┆           ┆           ┆   ┆           ┆           ┆           ┆         │\n",
              "│ 50%        ┆ 2.6300224 ┆ null      ┆ null      ┆ … ┆ 0.0       ┆ 16.0      ┆ 16.0      ┆ null    │\n",
              "│            ┆ e7        ┆           ┆           ┆   ┆           ┆           ┆           ┆         │\n",
              "│ 75%        ┆ 2.8700596 ┆ null      ┆ null      ┆ … ┆ 1.0       ┆ 29.0      ┆ 29.0      ┆ null    │\n",
              "│            ┆ e7        ┆           ┆           ┆   ┆           ┆           ┆           ┆         │\n",
              "│ max        ┆ 6.2400001 ┆ 2025-06-2 ┆ Washingto ┆ … ┆ 2.0       ┆ 68.0      ┆ 65.0      ┆ null    │\n",
              "│            ┆ e7        ┆ 2         ┆ n         ┆   ┆           ┆           ┆           ┆         │\n",
              "│            ┆           ┆ 20:00:00  ┆           ┆   ┆           ┆           ┆           ┆         │\n",
              "└────────────┴───────────┴───────────┴───────────┴───┴───────────┴───────────┴───────────┴─────────┘"
            ]
          },
          "execution_count": 7,
          "metadata": {},
          "output_type": "execute_result"
        }
      ],
      "source": [
        "df_team_stats.describe()"
      ]
    }
  ],
  "metadata": {
    "colab": {
      "provenance": []
    },
    "kernelspec": {
      "display_name": "polarsnba",
      "language": "python",
      "name": "python3"
    },
    "language_info": {
      "codemirror_mode": {
        "name": "ipython",
        "version": 3
      },
      "file_extension": ".py",
      "mimetype": "text/x-python",
      "name": "python",
      "nbconvert_exporter": "python",
      "pygments_lexer": "ipython3",
      "version": "3.12.3"
    }
  },
  "nbformat": 4,
  "nbformat_minor": 0
}
