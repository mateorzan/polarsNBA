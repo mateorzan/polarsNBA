{
  "cells": [
    {
      "cell_type": "code",
      "execution_count": 1,
      "metadata": {
        "colab": {
          "base_uri": "https://localhost:8080/"
        },
        "id": "v5QrZnVNa8LX",
        "outputId": "38c193b7-51cd-42f6-c52f-02b017a1097e"
      },
      "outputs": [],
      "source": [
        "import polars as pl"
      ]
    },
    {
      "cell_type": "markdown",
      "metadata": {},
      "source": [
        "# DATASET SACADO DE KAGGLE (https://www.kaggle.com/datasets/eoinamoore/historical-nba-data-and-player-box-scores)"
      ]
    },
    {
      "cell_type": "markdown",
      "metadata": {},
      "source": [
        "## LIMPIEZA TEAM HISTORIES"
      ]
    },
    {
      "cell_type": "code",
      "execution_count": 2,
      "metadata": {
        "id": "lwsAnhcDboYz"
      },
      "outputs": [],
      "source": [
        "df_team_histories = pl.read_csv('/home/uvuser/polarsNBA/archive/raw/TeamHistories.csv')"
      ]
    },
    {
      "cell_type": "code",
      "execution_count": 3,
      "metadata": {
        "colab": {
          "base_uri": "https://localhost:8080/",
          "height": 810
        },
        "id": "cghRObUBcPwG",
        "outputId": "bd7357d1-d637-4f7e-9665-af4c956888fb"
      },
      "outputs": [
        {
          "data": {
            "text/html": [
              "<div><style>\n",
              ".dataframe > thead > tr,\n",
              ".dataframe > tbody > tr {\n",
              "  text-align: right;\n",
              "  white-space: pre-wrap;\n",
              "}\n",
              "</style>\n",
              "<small>shape: (140, 7)</small><table border=\"1\" class=\"dataframe\"><thead><tr><th>teamId</th><th>teamCity</th><th>teamName</th><th>teamAbbrev</th><th>seasonFounded</th><th>seasonActiveTill</th><th>league</th></tr><tr><td>i64</td><td>str</td><td>str</td><td>str</td><td>i64</td><td>i64</td><td>str</td></tr></thead><tbody><tr><td>1610612737</td><td>&quot;Tri-Cities&quot;</td><td>&quot;Blackhawks&quot;</td><td>&quot;TRI&nbsp;&nbsp;&quot;</td><td>1946</td><td>1948</td><td>&quot;BAA&quot;</td></tr><tr><td>1610612737</td><td>&quot;Milwaukee&quot;</td><td>&quot;Hawks&quot;</td><td>&quot;MIL&nbsp;&nbsp;&quot;</td><td>1951</td><td>1954</td><td>&quot;NBA&quot;</td></tr><tr><td>1610612737</td><td>&quot;St. Louis&quot;</td><td>&quot;Hawks&quot;</td><td>&quot;STL&nbsp;&nbsp;&quot;</td><td>1955</td><td>1967</td><td>&quot;NBA&quot;</td></tr><tr><td>1610612737</td><td>&quot;Atlanta&quot;</td><td>&quot;Hawks&quot;</td><td>&quot;ATL&nbsp;&nbsp;&quot;</td><td>1968</td><td>2100</td><td>&quot;NBA&quot;</td></tr><tr><td>1610612738</td><td>&quot;Boston&quot;</td><td>&quot;Celtics&quot;</td><td>&quot;BOS&nbsp;&nbsp;&quot;</td><td>1946</td><td>1948</td><td>&quot;BAA&quot;</td></tr><tr><td>&hellip;</td><td>&hellip;</td><td>&hellip;</td><td>&hellip;</td><td>&hellip;</td><td>&hellip;</td><td>&hellip;</td></tr><tr><td>9058</td><td>&quot;Indianapolis&quot;</td><td>&quot;Olympians&quot;</td><td>&quot;INO&nbsp;&nbsp;&quot;</td><td>1949</td><td>1948</td><td>&quot;BAA&quot;</td></tr><tr><td>9060</td><td>&quot;Rio de Janeiro&quot;</td><td>&quot;Flamengo&quot;</td><td>&quot;FLA&nbsp;&nbsp;&quot;</td><td>1919</td><td>2100</td><td>&quot;Liga Nacional&quot;</td></tr><tr><td>9062</td><td>&quot;All-Star&quot;</td><td>&quot;Team Stephen&quot;</td><td>&quot;STP&nbsp;&nbsp;&quot;</td><td>2018</td><td>2018</td><td>&quot;NBA&quot;</td></tr><tr><td>9064</td><td>&quot;Kaunas&quot;</td><td>&quot;Zalgiris&quot;</td><td>&quot;ZAK&nbsp;&nbsp;&quot;</td><td>1944</td><td>2100</td><td>&quot;EuroLeague&quot;</td></tr><tr><td>9066</td><td>&quot;Raanana&quot;</td><td>&quot;Maccabi Ra anana&quot;</td><td>&quot;MRA&nbsp;&nbsp;&quot;</td><td>1980</td><td>2100</td><td>&quot;Israeli Premier League&quot;</td></tr></tbody></table></div>"
            ],
            "text/plain": [
              "shape: (140, 7)\n",
              "┌────────────┬──────────────┬──────────────┬────────────┬──────────────┬─────────────┬─────────────┐\n",
              "│ teamId     ┆ teamCity     ┆ teamName     ┆ teamAbbrev ┆ seasonFounde ┆ seasonActiv ┆ league      │\n",
              "│ ---        ┆ ---          ┆ ---          ┆ ---        ┆ d            ┆ eTill       ┆ ---         │\n",
              "│ i64        ┆ str          ┆ str          ┆ str        ┆ ---          ┆ ---         ┆ str         │\n",
              "│            ┆              ┆              ┆            ┆ i64          ┆ i64         ┆             │\n",
              "╞════════════╪══════════════╪══════════════╪════════════╪══════════════╪═════════════╪═════════════╡\n",
              "│ 1610612737 ┆ Tri-Cities   ┆ Blackhawks   ┆ TRI        ┆ 1946         ┆ 1948        ┆ BAA         │\n",
              "│ 1610612737 ┆ Milwaukee    ┆ Hawks        ┆ MIL        ┆ 1951         ┆ 1954        ┆ NBA         │\n",
              "│ 1610612737 ┆ St. Louis    ┆ Hawks        ┆ STL        ┆ 1955         ┆ 1967        ┆ NBA         │\n",
              "│ 1610612737 ┆ Atlanta      ┆ Hawks        ┆ ATL        ┆ 1968         ┆ 2100        ┆ NBA         │\n",
              "│ 1610612738 ┆ Boston       ┆ Celtics      ┆ BOS        ┆ 1946         ┆ 1948        ┆ BAA         │\n",
              "│ …          ┆ …            ┆ …            ┆ …          ┆ …            ┆ …           ┆ …           │\n",
              "│ 9058       ┆ Indianapolis ┆ Olympians    ┆ INO        ┆ 1949         ┆ 1948        ┆ BAA         │\n",
              "│ 9060       ┆ Rio de       ┆ Flamengo     ┆ FLA        ┆ 1919         ┆ 2100        ┆ Liga        │\n",
              "│            ┆ Janeiro      ┆              ┆            ┆              ┆             ┆ Nacional    │\n",
              "│ 9062       ┆ All-Star     ┆ Team Stephen ┆ STP        ┆ 2018         ┆ 2018        ┆ NBA         │\n",
              "│ 9064       ┆ Kaunas       ┆ Zalgiris     ┆ ZAK        ┆ 1944         ┆ 2100        ┆ EuroLeague  │\n",
              "│ 9066       ┆ Raanana      ┆ Maccabi Ra   ┆ MRA        ┆ 1980         ┆ 2100        ┆ Israeli     │\n",
              "│            ┆              ┆ anana        ┆            ┆              ┆             ┆ Premier     │\n",
              "│            ┆              ┆              ┆            ┆              ┆             ┆ League      │\n",
              "└────────────┴──────────────┴──────────────┴────────────┴──────────────┴─────────────┴─────────────┘"
            ]
          },
          "execution_count": 3,
          "metadata": {},
          "output_type": "execute_result"
        }
      ],
      "source": [
        "df_team_histories"
      ]
    },
    {
      "cell_type": "code",
      "execution_count": 4,
      "metadata": {
        "colab": {
          "base_uri": "https://localhost:8080/"
        },
        "id": "snsKFdWSdDlQ",
        "outputId": "6929a45d-be8a-4912-fbf3-d46442aaa95a"
      },
      "outputs": [
        {
          "name": "stdout",
          "output_type": "stream",
          "text": [
            "shape: (1, 7)\n",
            "┌──────────────┬─────────────┬─────────────┬─────────────┬─────────────┬─────────────┬─────────────┐\n",
            "│ teamId_nulos ┆ teamCity_nu ┆ teamName_nu ┆ teamAbbrev_ ┆ seasonFound ┆ seasonActiv ┆ league_nulo │\n",
            "│ ---          ┆ los         ┆ los         ┆ nulos       ┆ ed_nulos    ┆ eTill_nulos ┆ s           │\n",
            "│ u32          ┆ ---         ┆ ---         ┆ ---         ┆ ---         ┆ ---         ┆ ---         │\n",
            "│              ┆ u32         ┆ u32         ┆ u32         ┆ u32         ┆ u32         ┆ u32         │\n",
            "╞══════════════╪═════════════╪═════════════╪═════════════╪═════════════╪═════════════╪═════════════╡\n",
            "│ 0            ┆ 0           ┆ 0           ┆ 0           ┆ 0           ┆ 0           ┆ 0           │\n",
            "└──────────────┴─────────────┴─────────────┴─────────────┴─────────────┴─────────────┴─────────────┘\n"
          ]
        }
      ],
      "source": [
        "# Contar los nulos por columna\n",
        "nulos_por_columna = df_team_histories.select([\n",
        "    pl.col(col).is_null().sum().alias(f\"{col}_nulos\")\n",
        "    for col in df_team_histories.columns\n",
        "])\n",
        "\n",
        "print(nulos_por_columna)"
      ]
    },
    {
      "cell_type": "code",
      "execution_count": 5,
      "metadata": {
        "colab": {
          "base_uri": "https://localhost:8080/"
        },
        "id": "VOe29ZV-eZzp",
        "outputId": "e3638ac8-b596-454e-813a-8d2a5cb46fd0"
      },
      "outputs": [
        {
          "name": "stdout",
          "output_type": "stream",
          "text": [
            "shape: (0, 7)\n",
            "┌────────┬──────────┬──────────┬────────────┬───────────────┬──────────────────┬────────┐\n",
            "│ teamId ┆ teamCity ┆ teamName ┆ teamAbbrev ┆ seasonFounded ┆ seasonActiveTill ┆ league │\n",
            "│ ---    ┆ ---      ┆ ---      ┆ ---        ┆ ---           ┆ ---              ┆ ---    │\n",
            "│ i64    ┆ str      ┆ str      ┆ str        ┆ i64           ┆ i64              ┆ str    │\n",
            "╞════════╪══════════╪══════════╪════════════╪═══════════════╪══════════════════╪════════╡\n",
            "└────────┴──────────┴──────────┴────────────┴───────────────┴──────────────────┴────────┘\n"
          ]
        }
      ],
      "source": [
        "duplicados = df_team_histories.filter(df_team_histories.is_duplicated())\n",
        "print(duplicados)"
      ]
    },
    {
      "cell_type": "code",
      "execution_count": 6,
      "metadata": {
        "colab": {
          "base_uri": "https://localhost:8080/"
        },
        "id": "lLGg3b1efPUY",
        "outputId": "2307566d-1c27-4556-d143-09f0fb3f4eff"
      },
      "outputs": [
        {
          "name": "stdout",
          "output_type": "stream",
          "text": [
            "Número de filas duplicadas: 0\n"
          ]
        }
      ],
      "source": [
        "num_duplicados = df_team_histories.is_duplicated().sum()\n",
        "print(f\"Número de filas duplicadas: {num_duplicados}\")"
      ]
    },
    {
      "cell_type": "code",
      "execution_count": 7,
      "metadata": {
        "colab": {
          "base_uri": "https://localhost:8080/",
          "height": 470
        },
        "id": "QqQmPAFjfmXu",
        "outputId": "2c81435e-44d8-4a36-9e32-46032d79e746"
      },
      "outputs": [
        {
          "data": {
            "text/html": [
              "<div><style>\n",
              ".dataframe > thead > tr,\n",
              ".dataframe > tbody > tr {\n",
              "  text-align: right;\n",
              "  white-space: pre-wrap;\n",
              "}\n",
              "</style>\n",
              "<small>shape: (9, 8)</small><table border=\"1\" class=\"dataframe\"><thead><tr><th>statistic</th><th>teamId</th><th>teamCity</th><th>teamName</th><th>teamAbbrev</th><th>seasonFounded</th><th>seasonActiveTill</th><th>league</th></tr><tr><td>str</td><td>f64</td><td>str</td><td>str</td><td>str</td><td>f64</td><td>f64</td><td>str</td></tr></thead><tbody><tr><td>&quot;count&quot;</td><td>140.0</td><td>&quot;140&quot;</td><td>&quot;140&quot;</td><td>&quot;140&quot;</td><td>140.0</td><td>140.0</td><td>&quot;140&quot;</td></tr><tr><td>&quot;null_count&quot;</td><td>0.0</td><td>&quot;0&quot;</td><td>&quot;0&quot;</td><td>&quot;0&quot;</td><td>0.0</td><td>0.0</td><td>&quot;0&quot;</td></tr><tr><td>&quot;mean&quot;</td><td>7.8230e8</td><td>null</td><td>null</td><td>null</td><td>1970.192857</td><td>2037.414286</td><td>null</td></tr><tr><td>&quot;std&quot;</td><td>8.0786e8</td><td>null</td><td>null</td><td>null</td><td>26.628782</td><td>65.796392</td><td>null</td></tr><tr><td>&quot;min&quot;</td><td>9001.0</td><td>&quot;Adelaide&quot;</td><td>&quot;36ers&quot;</td><td>&quot;ADL&nbsp;&nbsp;&quot;</td><td>1913.0</td><td>1948.0</td><td>&quot;BAA&quot;</td></tr><tr><td>&quot;25%&quot;</td><td>9033.0</td><td>null</td><td>null</td><td>null</td><td>1949.0</td><td>1967.0</td><td>null</td></tr><tr><td>&quot;50%&quot;</td><td>9066.0</td><td>null</td><td>null</td><td>null</td><td>1968.0</td><td>2100.0</td><td>null</td></tr><tr><td>&quot;75%&quot;</td><td>1.6106e9</td><td>null</td><td>null</td><td>null</td><td>1995.0</td><td>2100.0</td><td>null</td></tr><tr><td>&quot;max&quot;</td><td>1.6106e9</td><td>&quot;West&quot;</td><td>&quot;Zephyrs&quot;</td><td>&quot;ZAK&nbsp;&nbsp;&quot;</td><td>2021.0</td><td>2100.0</td><td>&quot;VTB United League&quot;</td></tr></tbody></table></div>"
            ],
            "text/plain": [
              "shape: (9, 8)\n",
              "┌────────────┬──────────┬──────────┬──────────┬────────────┬─────────────┬────────────┬────────────┐\n",
              "│ statistic  ┆ teamId   ┆ teamCity ┆ teamName ┆ teamAbbrev ┆ seasonFound ┆ seasonActi ┆ league     │\n",
              "│ ---        ┆ ---      ┆ ---      ┆ ---      ┆ ---        ┆ ed          ┆ veTill     ┆ ---        │\n",
              "│ str        ┆ f64      ┆ str      ┆ str      ┆ str        ┆ ---         ┆ ---        ┆ str        │\n",
              "│            ┆          ┆          ┆          ┆            ┆ f64         ┆ f64        ┆            │\n",
              "╞════════════╪══════════╪══════════╪══════════╪════════════╪═════════════╪════════════╪════════════╡\n",
              "│ count      ┆ 140.0    ┆ 140      ┆ 140      ┆ 140        ┆ 140.0       ┆ 140.0      ┆ 140        │\n",
              "│ null_count ┆ 0.0      ┆ 0        ┆ 0        ┆ 0          ┆ 0.0         ┆ 0.0        ┆ 0          │\n",
              "│ mean       ┆ 7.8230e8 ┆ null     ┆ null     ┆ null       ┆ 1970.192857 ┆ 2037.41428 ┆ null       │\n",
              "│            ┆          ┆          ┆          ┆            ┆             ┆ 6          ┆            │\n",
              "│ std        ┆ 8.0786e8 ┆ null     ┆ null     ┆ null       ┆ 26.628782   ┆ 65.796392  ┆ null       │\n",
              "│ min        ┆ 9001.0   ┆ Adelaide ┆ 36ers    ┆ ADL        ┆ 1913.0      ┆ 1948.0     ┆ BAA        │\n",
              "│ 25%        ┆ 9033.0   ┆ null     ┆ null     ┆ null       ┆ 1949.0      ┆ 1967.0     ┆ null       │\n",
              "│ 50%        ┆ 9066.0   ┆ null     ┆ null     ┆ null       ┆ 1968.0      ┆ 2100.0     ┆ null       │\n",
              "│ 75%        ┆ 1.6106e9 ┆ null     ┆ null     ┆ null       ┆ 1995.0      ┆ 2100.0     ┆ null       │\n",
              "│ max        ┆ 1.6106e9 ┆ West     ┆ Zephyrs  ┆ ZAK        ┆ 2021.0      ┆ 2100.0     ┆ VTB United │\n",
              "│            ┆          ┆          ┆          ┆            ┆             ┆            ┆ League     │\n",
              "└────────────┴──────────┴──────────┴──────────┴────────────┴─────────────┴────────────┴────────────┘"
            ]
          },
          "execution_count": 7,
          "metadata": {},
          "output_type": "execute_result"
        }
      ],
      "source": [
        "df_team_histories.describe()"
      ]
    }
  ],
  "metadata": {
    "colab": {
      "provenance": []
    },
    "kernelspec": {
      "display_name": "polarsnba",
      "language": "python",
      "name": "python3"
    },
    "language_info": {
      "codemirror_mode": {
        "name": "ipython",
        "version": 3
      },
      "file_extension": ".py",
      "mimetype": "text/x-python",
      "name": "python",
      "nbconvert_exporter": "python",
      "pygments_lexer": "ipython3",
      "version": "3.12.3"
    }
  },
  "nbformat": 4,
  "nbformat_minor": 0
}
